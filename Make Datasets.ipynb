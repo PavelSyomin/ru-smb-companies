{
 "cells": [
  {
   "cell_type": "code",
   "execution_count": 1,
   "id": "1b131066",
   "metadata": {},
   "outputs": [],
   "source": [
    "import pathlib\n",
    "import os\n",
    "import zipfile\n",
    "\n",
    "import pandas as pd\n",
    "from pyspark import SparkContext, SparkConf, SparkFiles\n",
    "from pyspark.sql import SparkSession, Window\n",
    "from pyspark.sql.functions import coalesce, desc, first, last, lead, lower, lpad, row_number, max, min, upper, year\n",
    "from pyspark.sql.types import StructField, StructType, ByteType, DateType, FloatType, IntegerType, ShortType, StringType\n",
    "import tqdm"
   ]
  },
  {
   "cell_type": "code",
   "execution_count": 2,
   "id": "11c42d48",
   "metadata": {},
   "outputs": [],
   "source": [
    "pd.set_option(\"display.max_columns\", None)"
   ]
  },
  {
   "cell_type": "markdown",
   "id": "07a0c57e",
   "metadata": {},
   "source": [
    "# Spark Configuration"
   ]
  },
  {
   "cell_type": "code",
   "execution_count": 3,
   "id": "d0fe9984",
   "metadata": {},
   "outputs": [
    {
     "data": {
      "text/plain": [
       "<pyspark.conf.SparkConf at 0x7fe218fc2fe0>"
      ]
     },
     "execution_count": 3,
     "metadata": {},
     "output_type": "execute_result"
    }
   ],
   "source": [
    "conf = SparkConf()\n",
    "conf.setMaster(\"local[*]\").setAppName(\"Dataset Maker\")"
   ]
  },
  {
   "cell_type": "code",
   "execution_count": 4,
   "id": "460620f9",
   "metadata": {},
   "outputs": [
    {
     "name": "stderr",
     "output_type": "stream",
     "text": [
      "23/11/13 11:45:44 WARN Utils: Your hostname, asus-notebook resolves to a loopback address: 127.0.1.1; using 192.168.1.186 instead (on interface wlp3s0)\n",
      "23/11/13 11:45:44 WARN Utils: Set SPARK_LOCAL_IP if you need to bind to another address\n",
      "Setting default log level to \"WARN\".\n",
      "To adjust logging level use sc.setLogLevel(newLevel). For SparkR, use setLogLevel(newLevel).\n",
      "23/11/13 11:45:45 WARN NativeCodeLoader: Unable to load native-hadoop library for your platform... using builtin-java classes where applicable\n"
     ]
    }
   ],
   "source": [
    "sc = SparkContext(conf=conf)"
   ]
  },
  {
   "cell_type": "code",
   "execution_count": 5,
   "id": "7444d9c0",
   "metadata": {},
   "outputs": [
    {
     "data": {
      "text/plain": [
       "'http://192.168.1.186:4040'"
      ]
     },
     "execution_count": 5,
     "metadata": {},
     "output_type": "execute_result"
    }
   ],
   "source": [
    "sc.uiWebUrl"
   ]
  },
  {
   "cell_type": "code",
   "execution_count": 6,
   "id": "f86e0dc0",
   "metadata": {},
   "outputs": [],
   "source": [
    "session = SparkSession(sc)"
   ]
  },
  {
   "cell_type": "markdown",
   "id": "d0660697",
   "metadata": {},
   "source": [
    "# Small&Meduim Business Data"
   ]
  },
  {
   "cell_type": "code",
   "execution_count": 7,
   "id": "2f99de92",
   "metadata": {},
   "outputs": [],
   "source": [
    "rsmp_schema = StructType([\n",
    "    StructField(\"kind\", ByteType(), False),\n",
    "    StructField(\"category\", ByteType(), False),\n",
    "    StructField(\"reestr_date\", DateType(), False),\n",
    "    StructField(\"data_date\", DateType(), False),\n",
    "    StructField(\"ind_tin\", StringType(), True),\n",
    "    StructField(\"ind_number\", StringType(), True),\n",
    "    StructField(\"first_name\", StringType(), True),\n",
    "    StructField(\"last_name\", StringType(), True),\n",
    "    StructField(\"patronymic\", StringType(), True),\n",
    "    StructField(\"org_name\", StringType(), True),\n",
    "    StructField(\"org_short_name\", StringType(), True),\n",
    "    StructField(\"org_tin\", StringType(), True),\n",
    "    StructField(\"org_number\", StringType(), True),\n",
    "    StructField(\"region_code\", ByteType(), True),\n",
    "    StructField(\"region_name\", StringType(), True),\n",
    "    StructField(\"region_type\", StringType(), True),\n",
    "    StructField(\"district_name\", StringType(), True),\n",
    "    StructField(\"district_type\", StringType(), True),\n",
    "    StructField(\"city_name\", StringType(), True),    \n",
    "    StructField(\"city_type\", StringType(), True),\n",
    "    StructField(\"settlement_name\", StringType(), True),\n",
    "    StructField(\"settlement_type\", StringType(), True),\n",
    "    StructField(\"activity_code_main\", StringType(), False),\n",
    "    StructField(\"activity_codes_additional\", StringType(), True),\n",
    "    StructField(\"total\", ShortType(), True), \n",
    "    StructField(\"file_id\", StringType(), True), \n",
    "])\n",
    "rsmp_path = pathlib.Path(\"rsmp/csv\")\n",
    "rsmp_csv_files = [str(fn) for fn in rsmp_path.glob(\"data-*.csv\")]"
   ]
  },
  {
   "cell_type": "code",
   "execution_count": 8,
   "id": "e1ccf1b5",
   "metadata": {},
   "outputs": [
    {
     "name": "stderr",
     "output_type": "stream",
     "text": [
      "                                                                                \r"
     ]
    },
    {
     "name": "stdout",
     "output_type": "stream",
     "text": [
      "root\n",
      " |-- kind: byte (nullable = true)\n",
      " |-- category: byte (nullable = true)\n",
      " |-- reestr_date: date (nullable = true)\n",
      " |-- data_date: date (nullable = true)\n",
      " |-- ind_tin: string (nullable = true)\n",
      " |-- ind_number: string (nullable = true)\n",
      " |-- first_name: string (nullable = true)\n",
      " |-- last_name: string (nullable = true)\n",
      " |-- patronymic: string (nullable = true)\n",
      " |-- org_name: string (nullable = true)\n",
      " |-- org_short_name: string (nullable = true)\n",
      " |-- org_tin: string (nullable = true)\n",
      " |-- org_number: string (nullable = true)\n",
      " |-- region_code: byte (nullable = true)\n",
      " |-- region_name: string (nullable = true)\n",
      " |-- region_type: string (nullable = true)\n",
      " |-- district_name: string (nullable = true)\n",
      " |-- district_type: string (nullable = true)\n",
      " |-- city_name: string (nullable = true)\n",
      " |-- city_type: string (nullable = true)\n",
      " |-- settlement_name: string (nullable = true)\n",
      " |-- settlement_type: string (nullable = true)\n",
      " |-- activity_code_main: string (nullable = true)\n",
      " |-- activity_codes_additional: string (nullable = true)\n",
      " |-- total: short (nullable = true)\n",
      " |-- file_id: string (nullable = true)\n",
      "\n"
     ]
    }
   ],
   "source": [
    "rsmp = session.read.options(\n",
    "    header=True, dateFormat=\"dd.MM.yyyy\", escape='\"'\n",
    ").schema(rsmp_schema).csv(rsmp_csv_files)\n",
    "rsmp.printSchema()"
   ]
  },
  {
   "cell_type": "code",
   "execution_count": 9,
   "id": "5319c0d2",
   "metadata": {},
   "outputs": [
    {
     "name": "stderr",
     "output_type": "stream",
     "text": [
      "                                                                                \r"
     ]
    },
    {
     "data": {
      "text/plain": [
       "5485042"
      ]
     },
     "execution_count": 9,
     "metadata": {},
     "output_type": "execute_result"
    }
   ],
   "source": [
    "initial_count = rsmp.count()\n",
    "initial_count"
   ]
  },
  {
   "cell_type": "code",
   "execution_count": 10,
   "id": "f70efbb3",
   "metadata": {},
   "outputs": [],
   "source": [
    "cols_to_check_for_duplicates = [\n",
    "    \"kind\", \"category\", \"tin\", \"reg_number\",\n",
    "    \"first_name\", \"last_name\", \"patronymic\",\n",
    "    \"org_name\", \"org_short_name\",\n",
    "    \"region_name\",\n",
    "    \"district_name\", \"city_name\", \"settlement_name\",\n",
    "    \"activity_code_main\"\n",
    "]\n",
    "cols_to_select = [\n",
    "    \"kind\",\n",
    "    \"category\",\n",
    "    \"tin\",\n",
    "    \"reg_number\",\n",
    "    \"first_name\",\n",
    "    \"last_name\",\n",
    "    \"patronymic\",\n",
    "    \"org_name\",\n",
    "    \"org_short_name\",\n",
    "    \"region_code\",\n",
    "    \"region_name\",\n",
    "    \"region_type\",\n",
    "    \"district_name\",\n",
    "    \"district_type\",\n",
    "    \"city_name\",\n",
    "    \"city_type\",\n",
    "    \"settlement_name\",\n",
    "    \"settlement_type\",\n",
    "    \"activity_code_main\",\n",
    "    \"start_date\",\n",
    "    \"end_date\",\n",
    "]\n",
    "cols_to_uppercase = [\n",
    "    \"first_name\", \"last_name\", \"patronymic\",\n",
    "    \"org_name\", \"org_short_name\",\n",
    "    \"region_name\", \"region_type\",\n",
    "    \"district_name\", \"district_type\",\n",
    "    \"city_name\", \"city_type\",\n",
    "    \"settlement_name\", \"settlement_type\",\n",
    "]\n",
    "excluded_regions = [\n",
    "    \"Крым\",\n",
    "    \"Севастополь\",\n",
    "    \"Донецкая\",\n",
    "    \"Луганская\",\n",
    "    \"Запорожская\",\n",
    "    \"Херсонская\"\n",
    "]\n",
    "excluded_regions_condition = (\n",
    "    \"not (\"\n",
    "    + \" or \".join(f\"region_name ilike '%{region.upper()}%'\" for region in excluded_regions)\n",
    "    + \")\"\n",
    ")\n",
    "w_for_row_number = (\n",
    "    Window\n",
    "    .partitionBy(cols_to_check_for_duplicates)\n",
    "    .orderBy(\"data_date\")\n",
    ")\n",
    "w_for_end_date = w_for_row_number.rowsBetween(0, Window.unboundedFollowing)\n",
    "w_for_reg_number = (\n",
    "    Window\n",
    "    .partitionBy([\"tin\"])\n",
    "    .orderBy(\"data_date\")\n",
    "    .rowsBetween(0, Window.unboundedFollowing)\n",
    ")\n",
    "\n",
    "rsmp_table = (\n",
    "    rsmp\n",
    "    .filter(excluded_regions_condition)\n",
    "    .withColumns({\n",
    "        colname: upper(colname)\n",
    "        for colname in cols_to_uppercase\n",
    "    })\n",
    "    .withColumns({\n",
    "        \"ind_tin\": lpad(\"ind_tin\", 12, \"0\"),\n",
    "        \"org_tin\": lpad(\"org_tin\", 10, \"0\"),\n",
    "    })\n",
    "    .withColumns({\n",
    "        \"tin\": coalesce(\"ind_tin\", \"org_tin\"),\n",
    "        \"reg_number\": coalesce(\"ind_number\", \"org_number\"),\n",
    "    })\n",
    "    .withColumn(\"reg_number\", first(\"reg_number\", ignorenulls=True).over(w_for_reg_number))\n",
    "    .withColumn(\"row_number\", row_number().over(w_for_row_number))\n",
    "    .withColumn(\"end_date\", last(\"data_date\").over(w_for_end_date))\n",
    "    .filter(\"row_number = 1\")\n",
    "    .withColumnRenamed(\"data_date\", \"start_date\")\n",
    "    .select(*cols_to_select)\n",
    "    .cache()\n",
    ")"
   ]
  },
  {
   "cell_type": "code",
   "execution_count": 11,
   "id": "fabb239c",
   "metadata": {},
   "outputs": [
    {
     "name": "stderr",
     "output_type": "stream",
     "text": [
      "                                                                                \r"
     ]
    },
    {
     "data": {
      "text/plain": [
       "160847"
      ]
     },
     "execution_count": 11,
     "metadata": {},
     "output_type": "execute_result"
    }
   ],
   "source": [
    "count_after = rsmp_table.count()\n",
    "count_after"
   ]
  },
  {
   "cell_type": "code",
   "execution_count": 12,
   "id": "b3636138",
   "metadata": {},
   "outputs": [
    {
     "data": {
      "text/html": [
       "<div>\n",
       "<style scoped>\n",
       "    .dataframe tbody tr th:only-of-type {\n",
       "        vertical-align: middle;\n",
       "    }\n",
       "\n",
       "    .dataframe tbody tr th {\n",
       "        vertical-align: top;\n",
       "    }\n",
       "\n",
       "    .dataframe thead th {\n",
       "        text-align: right;\n",
       "    }\n",
       "</style>\n",
       "<table border=\"1\" class=\"dataframe\">\n",
       "  <thead>\n",
       "    <tr style=\"text-align: right;\">\n",
       "      <th></th>\n",
       "      <th>kind</th>\n",
       "      <th>category</th>\n",
       "      <th>tin</th>\n",
       "      <th>reg_number</th>\n",
       "      <th>first_name</th>\n",
       "      <th>last_name</th>\n",
       "      <th>patronymic</th>\n",
       "      <th>org_name</th>\n",
       "      <th>org_short_name</th>\n",
       "      <th>region_code</th>\n",
       "      <th>region_name</th>\n",
       "      <th>region_type</th>\n",
       "      <th>district_name</th>\n",
       "      <th>district_type</th>\n",
       "      <th>city_name</th>\n",
       "      <th>city_type</th>\n",
       "      <th>settlement_name</th>\n",
       "      <th>settlement_type</th>\n",
       "      <th>activity_code_main</th>\n",
       "      <th>start_date</th>\n",
       "      <th>end_date</th>\n",
       "    </tr>\n",
       "  </thead>\n",
       "  <tbody>\n",
       "    <tr>\n",
       "      <th>0</th>\n",
       "      <td>0</td>\n",
       "      <td>0</td>\n",
       "      <td>6910020514</td>\n",
       "      <td>1116910001669</td>\n",
       "      <td>None</td>\n",
       "      <td>None</td>\n",
       "      <td>None</td>\n",
       "      <td>ОБЩЕСТВО С ОГРАНИЧЕННОЙ ОТВЕТСТВЕННОСТЬЮ \"ЦЕНТ...</td>\n",
       "      <td>ООО \"ЦЮУ \"ПРИОРИТЕТ\"</td>\n",
       "      <td>69</td>\n",
       "      <td>ТВЕРСКАЯ</td>\n",
       "      <td>ОБЛАСТЬ</td>\n",
       "      <td>None</td>\n",
       "      <td>None</td>\n",
       "      <td>КИМРЫ</td>\n",
       "      <td>ГОРОД</td>\n",
       "      <td>None</td>\n",
       "      <td>None</td>\n",
       "      <td>69.10</td>\n",
       "      <td>2020-11-10</td>\n",
       "      <td>2020-11-10</td>\n",
       "    </tr>\n",
       "    <tr>\n",
       "      <th>1</th>\n",
       "      <td>1</td>\n",
       "      <td>1</td>\n",
       "      <td>0273080245</td>\n",
       "      <td>1100280033897</td>\n",
       "      <td>None</td>\n",
       "      <td>None</td>\n",
       "      <td>None</td>\n",
       "      <td>ОБЩЕСТВО С ОГРАНИЧЕННОЙ ОТВЕТСТВЕННОСТЬЮ \"АВАН...</td>\n",
       "      <td>ООО \"АВАНТАЖ\"</td>\n",
       "      <td>2</td>\n",
       "      <td>БАШКОРТОСТАН</td>\n",
       "      <td>РЕСПУБЛИКА</td>\n",
       "      <td>None</td>\n",
       "      <td>None</td>\n",
       "      <td>УФА</td>\n",
       "      <td>ГОРОД</td>\n",
       "      <td>None</td>\n",
       "      <td>None</td>\n",
       "      <td>69.10</td>\n",
       "      <td>2017-04-10</td>\n",
       "      <td>2023-07-10</td>\n",
       "    </tr>\n",
       "    <tr>\n",
       "      <th>2</th>\n",
       "      <td>1</td>\n",
       "      <td>1</td>\n",
       "      <td>0276115295</td>\n",
       "      <td>1080276003026</td>\n",
       "      <td>None</td>\n",
       "      <td>None</td>\n",
       "      <td>None</td>\n",
       "      <td>ОБЩЕСТВО С ОГРАНИЧЕННОЙ ОТВЕТСТВЕННОСТЬЮ \"АКЦЕНТ\"</td>\n",
       "      <td>ООО \"АКЦЕНТ\"</td>\n",
       "      <td>2</td>\n",
       "      <td>БАШКОРТОСТАН</td>\n",
       "      <td>РЕСПУБЛИКА</td>\n",
       "      <td>None</td>\n",
       "      <td>None</td>\n",
       "      <td>УФА</td>\n",
       "      <td>ГОРОД</td>\n",
       "      <td>None</td>\n",
       "      <td>None</td>\n",
       "      <td>69.10</td>\n",
       "      <td>2016-12-10</td>\n",
       "      <td>2023-07-10</td>\n",
       "    </tr>\n",
       "    <tr>\n",
       "      <th>3</th>\n",
       "      <td>1</td>\n",
       "      <td>1</td>\n",
       "      <td>0276909812</td>\n",
       "      <td>1150280080884</td>\n",
       "      <td>None</td>\n",
       "      <td>None</td>\n",
       "      <td>None</td>\n",
       "      <td>ОБЩЕСТВО С ОГРАНИЧЕННОЙ ОТВЕТСТВЕННОСТЬЮ \"ИМПЕ...</td>\n",
       "      <td>ООО \"ИМПЕРИЯ НЕДВИЖИМОСТИ\"</td>\n",
       "      <td>2</td>\n",
       "      <td>БАШКОРТОСТАН</td>\n",
       "      <td>РЕСПУБЛИКА</td>\n",
       "      <td>None</td>\n",
       "      <td>None</td>\n",
       "      <td>УФА</td>\n",
       "      <td>ГОРОД</td>\n",
       "      <td>None</td>\n",
       "      <td>None</td>\n",
       "      <td>69.10</td>\n",
       "      <td>2016-08-10</td>\n",
       "      <td>2021-11-10</td>\n",
       "    </tr>\n",
       "    <tr>\n",
       "      <th>4</th>\n",
       "      <td>1</td>\n",
       "      <td>1</td>\n",
       "      <td>0276918454</td>\n",
       "      <td>1160280132836</td>\n",
       "      <td>None</td>\n",
       "      <td>None</td>\n",
       "      <td>None</td>\n",
       "      <td>ОБЩЕСТВО С ОГРАНИЧЕННОЙ ОТВЕТСТВЕННОСТЬЮ ЮРИДИ...</td>\n",
       "      <td>ООО ЮК \"БЕЛЫЙ ДОМ\"</td>\n",
       "      <td>2</td>\n",
       "      <td>БАШКОРТОСТАН</td>\n",
       "      <td>РЕСПУБЛИКА</td>\n",
       "      <td>None</td>\n",
       "      <td>None</td>\n",
       "      <td>УФА</td>\n",
       "      <td>ГОРОД</td>\n",
       "      <td>None</td>\n",
       "      <td>None</td>\n",
       "      <td>69.10</td>\n",
       "      <td>2018-07-10</td>\n",
       "      <td>2023-07-10</td>\n",
       "    </tr>\n",
       "    <tr>\n",
       "      <th>5</th>\n",
       "      <td>1</td>\n",
       "      <td>1</td>\n",
       "      <td>0276918454</td>\n",
       "      <td>1160280132836</td>\n",
       "      <td>None</td>\n",
       "      <td>None</td>\n",
       "      <td>None</td>\n",
       "      <td>ОБЩЕСТВО С ОГРАНИЧЕННОЙ ОТВЕТСТВЕННОСТЬЮ ЮРИДИ...</td>\n",
       "      <td>ООО ЮКЦ \"АКТИС\"</td>\n",
       "      <td>2</td>\n",
       "      <td>БАШКОРТОСТАН</td>\n",
       "      <td>РЕСПУБЛИКА</td>\n",
       "      <td>None</td>\n",
       "      <td>None</td>\n",
       "      <td>УФА</td>\n",
       "      <td>ГОРОД</td>\n",
       "      <td>None</td>\n",
       "      <td>None</td>\n",
       "      <td>69.10</td>\n",
       "      <td>2016-12-10</td>\n",
       "      <td>2018-06-10</td>\n",
       "    </tr>\n",
       "    <tr>\n",
       "      <th>6</th>\n",
       "      <td>1</td>\n",
       "      <td>1</td>\n",
       "      <td>0277070791</td>\n",
       "      <td>1050204485781</td>\n",
       "      <td>None</td>\n",
       "      <td>None</td>\n",
       "      <td>None</td>\n",
       "      <td>ОБЩЕСТВО С ОГРАНИЧЕННОЙ ОТВЕТСТВЕННОСТЬЮ \"ЦЕНТ...</td>\n",
       "      <td>ООО \"ЦЕНТР КАДРОВОГО КОНСАЛТИНГА \"ВАШИ КАДРЫ\"</td>\n",
       "      <td>2</td>\n",
       "      <td>БАШКОРТОСТАН</td>\n",
       "      <td>РЕСПУБЛИКА</td>\n",
       "      <td>None</td>\n",
       "      <td>None</td>\n",
       "      <td>УФА</td>\n",
       "      <td>ГОРОД</td>\n",
       "      <td>None</td>\n",
       "      <td>None</td>\n",
       "      <td>69.10</td>\n",
       "      <td>2019-08-10</td>\n",
       "      <td>2023-07-10</td>\n",
       "    </tr>\n",
       "    <tr>\n",
       "      <th>7</th>\n",
       "      <td>1</td>\n",
       "      <td>1</td>\n",
       "      <td>0277107233</td>\n",
       "      <td>1090280035867</td>\n",
       "      <td>None</td>\n",
       "      <td>None</td>\n",
       "      <td>None</td>\n",
       "      <td>ОБЩЕСТВО С ОГРАНИЧЕННОЙ ОТВЕТСТВЕННОСТЬЮ \"ЦЕНТ...</td>\n",
       "      <td>ООО \"ЦЕНТР ЮРИДИЧЕСКОЙ ПОМОЩИ\"</td>\n",
       "      <td>2</td>\n",
       "      <td>БАШКОРТОСТАН</td>\n",
       "      <td>РЕСПУБЛИКА</td>\n",
       "      <td>None</td>\n",
       "      <td>None</td>\n",
       "      <td>УФА</td>\n",
       "      <td>ГОРОД</td>\n",
       "      <td>None</td>\n",
       "      <td>None</td>\n",
       "      <td>69.10</td>\n",
       "      <td>2016-08-10</td>\n",
       "      <td>2020-08-10</td>\n",
       "    </tr>\n",
       "    <tr>\n",
       "      <th>8</th>\n",
       "      <td>1</td>\n",
       "      <td>1</td>\n",
       "      <td>0277107233</td>\n",
       "      <td>1090280035867</td>\n",
       "      <td>None</td>\n",
       "      <td>None</td>\n",
       "      <td>None</td>\n",
       "      <td>ОБЩЕСТВО С ОГРАНИЧЕННОЙ ОТВЕТСТВЕННОСТЬЮ \"ЦЕНТ...</td>\n",
       "      <td>ООО \"ЦЕНТР ЮРИДИЧЕСКОЙ ПОМОЩИ\"</td>\n",
       "      <td>2</td>\n",
       "      <td>БАШКОРТОСТАН</td>\n",
       "      <td>РЕСПУБЛИКА</td>\n",
       "      <td>УФИМСКИЙ</td>\n",
       "      <td>РАЙОН</td>\n",
       "      <td>None</td>\n",
       "      <td>None</td>\n",
       "      <td>БУЛГАКОВО</td>\n",
       "      <td>СЕЛО</td>\n",
       "      <td>69.10</td>\n",
       "      <td>2020-09-10</td>\n",
       "      <td>2023-07-10</td>\n",
       "    </tr>\n",
       "    <tr>\n",
       "      <th>9</th>\n",
       "      <td>1</td>\n",
       "      <td>1</td>\n",
       "      <td>0277126959</td>\n",
       "      <td>None</td>\n",
       "      <td>None</td>\n",
       "      <td>None</td>\n",
       "      <td>None</td>\n",
       "      <td>ОБЩЕСТВО С ОГРАНИЧЕННОЙ ОТВЕТСТВЕННОСТЬЮ \"СКОР...</td>\n",
       "      <td>ООО \"СКОРАЯ ЮРИДИЧЕСКАЯ ПОМОЩЬ\"</td>\n",
       "      <td>2</td>\n",
       "      <td>БАШКОРТОСТАН</td>\n",
       "      <td>РЕСПУБЛИКА</td>\n",
       "      <td>None</td>\n",
       "      <td>None</td>\n",
       "      <td>УФА</td>\n",
       "      <td>ГОРОД</td>\n",
       "      <td>None</td>\n",
       "      <td>None</td>\n",
       "      <td>69.10</td>\n",
       "      <td>2016-08-10</td>\n",
       "      <td>2019-04-10</td>\n",
       "    </tr>\n",
       "  </tbody>\n",
       "</table>\n",
       "</div>"
      ],
      "text/plain": [
       "   kind  category         tin     reg_number first_name last_name patronymic  \\\n",
       "0     0         0  6910020514  1116910001669       None      None       None   \n",
       "1     1         1  0273080245  1100280033897       None      None       None   \n",
       "2     1         1  0276115295  1080276003026       None      None       None   \n",
       "3     1         1  0276909812  1150280080884       None      None       None   \n",
       "4     1         1  0276918454  1160280132836       None      None       None   \n",
       "5     1         1  0276918454  1160280132836       None      None       None   \n",
       "6     1         1  0277070791  1050204485781       None      None       None   \n",
       "7     1         1  0277107233  1090280035867       None      None       None   \n",
       "8     1         1  0277107233  1090280035867       None      None       None   \n",
       "9     1         1  0277126959           None       None      None       None   \n",
       "\n",
       "                                            org_name  \\\n",
       "0  ОБЩЕСТВО С ОГРАНИЧЕННОЙ ОТВЕТСТВЕННОСТЬЮ \"ЦЕНТ...   \n",
       "1  ОБЩЕСТВО С ОГРАНИЧЕННОЙ ОТВЕТСТВЕННОСТЬЮ \"АВАН...   \n",
       "2  ОБЩЕСТВО С ОГРАНИЧЕННОЙ ОТВЕТСТВЕННОСТЬЮ \"АКЦЕНТ\"   \n",
       "3  ОБЩЕСТВО С ОГРАНИЧЕННОЙ ОТВЕТСТВЕННОСТЬЮ \"ИМПЕ...   \n",
       "4  ОБЩЕСТВО С ОГРАНИЧЕННОЙ ОТВЕТСТВЕННОСТЬЮ ЮРИДИ...   \n",
       "5  ОБЩЕСТВО С ОГРАНИЧЕННОЙ ОТВЕТСТВЕННОСТЬЮ ЮРИДИ...   \n",
       "6  ОБЩЕСТВО С ОГРАНИЧЕННОЙ ОТВЕТСТВЕННОСТЬЮ \"ЦЕНТ...   \n",
       "7  ОБЩЕСТВО С ОГРАНИЧЕННОЙ ОТВЕТСТВЕННОСТЬЮ \"ЦЕНТ...   \n",
       "8  ОБЩЕСТВО С ОГРАНИЧЕННОЙ ОТВЕТСТВЕННОСТЬЮ \"ЦЕНТ...   \n",
       "9  ОБЩЕСТВО С ОГРАНИЧЕННОЙ ОТВЕТСТВЕННОСТЬЮ \"СКОР...   \n",
       "\n",
       "                                  org_short_name  region_code   region_name  \\\n",
       "0                           ООО \"ЦЮУ \"ПРИОРИТЕТ\"           69      ТВЕРСКАЯ   \n",
       "1                                  ООО \"АВАНТАЖ\"            2  БАШКОРТОСТАН   \n",
       "2                                   ООО \"АКЦЕНТ\"            2  БАШКОРТОСТАН   \n",
       "3                     ООО \"ИМПЕРИЯ НЕДВИЖИМОСТИ\"            2  БАШКОРТОСТАН   \n",
       "4                             ООО ЮК \"БЕЛЫЙ ДОМ\"            2  БАШКОРТОСТАН   \n",
       "5                                ООО ЮКЦ \"АКТИС\"            2  БАШКОРТОСТАН   \n",
       "6  ООО \"ЦЕНТР КАДРОВОГО КОНСАЛТИНГА \"ВАШИ КАДРЫ\"            2  БАШКОРТОСТАН   \n",
       "7                 ООО \"ЦЕНТР ЮРИДИЧЕСКОЙ ПОМОЩИ\"            2  БАШКОРТОСТАН   \n",
       "8                 ООО \"ЦЕНТР ЮРИДИЧЕСКОЙ ПОМОЩИ\"            2  БАШКОРТОСТАН   \n",
       "9                ООО \"СКОРАЯ ЮРИДИЧЕСКАЯ ПОМОЩЬ\"            2  БАШКОРТОСТАН   \n",
       "\n",
       "  region_type district_name district_type city_name city_type settlement_name  \\\n",
       "0     ОБЛАСТЬ          None          None     КИМРЫ     ГОРОД            None   \n",
       "1  РЕСПУБЛИКА          None          None       УФА     ГОРОД            None   \n",
       "2  РЕСПУБЛИКА          None          None       УФА     ГОРОД            None   \n",
       "3  РЕСПУБЛИКА          None          None       УФА     ГОРОД            None   \n",
       "4  РЕСПУБЛИКА          None          None       УФА     ГОРОД            None   \n",
       "5  РЕСПУБЛИКА          None          None       УФА     ГОРОД            None   \n",
       "6  РЕСПУБЛИКА          None          None       УФА     ГОРОД            None   \n",
       "7  РЕСПУБЛИКА          None          None       УФА     ГОРОД            None   \n",
       "8  РЕСПУБЛИКА      УФИМСКИЙ         РАЙОН      None      None       БУЛГАКОВО   \n",
       "9  РЕСПУБЛИКА          None          None       УФА     ГОРОД            None   \n",
       "\n",
       "  settlement_type activity_code_main  start_date    end_date  \n",
       "0            None              69.10  2020-11-10  2020-11-10  \n",
       "1            None              69.10  2017-04-10  2023-07-10  \n",
       "2            None              69.10  2016-12-10  2023-07-10  \n",
       "3            None              69.10  2016-08-10  2021-11-10  \n",
       "4            None              69.10  2018-07-10  2023-07-10  \n",
       "5            None              69.10  2016-12-10  2018-06-10  \n",
       "6            None              69.10  2019-08-10  2023-07-10  \n",
       "7            None              69.10  2016-08-10  2020-08-10  \n",
       "8            СЕЛО              69.10  2020-09-10  2023-07-10  \n",
       "9            None              69.10  2016-08-10  2019-04-10  "
      ]
     },
     "execution_count": 12,
     "metadata": {},
     "output_type": "execute_result"
    }
   ],
   "source": [
    "rsmp_table.limit(10).toPandas()"
   ]
  },
  {
   "cell_type": "code",
   "execution_count": 13,
   "id": "12bd39ae",
   "metadata": {},
   "outputs": [
    {
     "name": "stderr",
     "output_type": "stream",
     "text": [
      "                                                                                \r"
     ]
    }
   ],
   "source": [
    "rsmp_table.toPandas().to_csv(\n",
    "    \"rsmp/csv/data.csv\", index=False, na_rep=\"NA\", float_format=\"%.0f\"\n",
    ")"
   ]
  },
  {
   "cell_type": "code",
   "execution_count": 14,
   "id": "91d380e2",
   "metadata": {},
   "outputs": [
    {
     "name": "stderr",
     "output_type": "stream",
     "text": [
      "                                                                                \r"
     ]
    },
    {
     "data": {
      "text/plain": [
       "79635"
      ]
     },
     "execution_count": 14,
     "metadata": {},
     "output_type": "execute_result"
    }
   ],
   "source": [
    "target_tins = rsmp_table.filter(\"kind == 1\").select(\"tin\")\n",
    "target_tins.count()"
   ]
  },
  {
   "cell_type": "markdown",
   "id": "8ffe431e",
   "metadata": {},
   "source": [
    "# Number of Employees"
   ]
  },
  {
   "cell_type": "code",
   "execution_count": 15,
   "id": "61661904",
   "metadata": {},
   "outputs": [
    {
     "name": "stdout",
     "output_type": "stream",
     "text": [
      "root\n",
      " |-- org_tin: string (nullable = true)\n",
      " |-- employees_count: integer (nullable = true)\n",
      " |-- data_date: date (nullable = true)\n",
      " |-- doc_date: date (nullable = true)\n",
      " |-- file_id: string (nullable = true)\n",
      "\n"
     ]
    }
   ],
   "source": [
    "staff_schema = StructType([\n",
    "    StructField(\"org_tin\", StringType(), False),\n",
    "    StructField(\"employees_count\", IntegerType(), True),\n",
    "    StructField(\"data_date\", DateType(), True),\n",
    "    StructField(\"doc_date\", DateType(), True),\n",
    "    StructField(\"file_id\", StringType(), True),\n",
    "])\n",
    "staff_path = pathlib.Path(\"sshr/csv\")\n",
    "staff_csv_files = [str(fn) for fn in staff_path.glob(\"data-*.csv\")]\n",
    "\n",
    "staff = session.read.options(\n",
    "    header=True, dateFormat=\"dd.MM.yyyy\"\n",
    ").schema(staff_schema).csv(staff_csv_files)\n",
    "staff.printSchema()"
   ]
  },
  {
   "cell_type": "code",
   "execution_count": 17,
   "id": "55bb07c4",
   "metadata": {},
   "outputs": [],
   "source": [
    "window = Window.partitionBy(\"tin\", \"data_date\").orderBy(desc(\"doc_date\"))\n",
    "\n",
    "staff_table = (\n",
    "    staff\n",
    "    .withColumnRenamed(\"org_tin\", \"tin\")\n",
    "    .join(target_tins, on=\"tin\", how=\"leftsemi\")\n",
    "    .withColumn(\"row_number\", row_number().over(window))\n",
    "    .filter(\"row_number = 1\")\n",
    "    .select(\"tin\", year(\"data_date\").alias(\"year\"), \"employees_count\")\n",
    "    .orderBy(\"tin\", \"year\")\n",
    "    .cache()\n",
    ")"
   ]
  },
  {
   "cell_type": "code",
   "execution_count": 18,
   "id": "4d3dbd05",
   "metadata": {},
   "outputs": [
    {
     "name": "stderr",
     "output_type": "stream",
     "text": [
      "                                                                                \r"
     ]
    },
    {
     "data": {
      "text/plain": [
       "172875"
      ]
     },
     "execution_count": 18,
     "metadata": {},
     "output_type": "execute_result"
    }
   ],
   "source": [
    "staff_table.count()"
   ]
  },
  {
   "cell_type": "code",
   "execution_count": 19,
   "id": "c68007ed",
   "metadata": {},
   "outputs": [
    {
     "data": {
      "text/html": [
       "<div>\n",
       "<style scoped>\n",
       "    .dataframe tbody tr th:only-of-type {\n",
       "        vertical-align: middle;\n",
       "    }\n",
       "\n",
       "    .dataframe tbody tr th {\n",
       "        vertical-align: top;\n",
       "    }\n",
       "\n",
       "    .dataframe thead th {\n",
       "        text-align: right;\n",
       "    }\n",
       "</style>\n",
       "<table border=\"1\" class=\"dataframe\">\n",
       "  <thead>\n",
       "    <tr style=\"text-align: right;\">\n",
       "      <th></th>\n",
       "      <th>tin</th>\n",
       "      <th>year</th>\n",
       "      <th>employees_count</th>\n",
       "    </tr>\n",
       "  </thead>\n",
       "  <tbody>\n",
       "    <tr>\n",
       "      <th>0</th>\n",
       "      <td>0101013292</td>\n",
       "      <td>2021</td>\n",
       "      <td>1</td>\n",
       "    </tr>\n",
       "    <tr>\n",
       "      <th>1</th>\n",
       "      <td>0104015040</td>\n",
       "      <td>2018</td>\n",
       "      <td>2</td>\n",
       "    </tr>\n",
       "    <tr>\n",
       "      <th>2</th>\n",
       "      <td>0104015040</td>\n",
       "      <td>2019</td>\n",
       "      <td>2</td>\n",
       "    </tr>\n",
       "    <tr>\n",
       "      <th>3</th>\n",
       "      <td>0104015040</td>\n",
       "      <td>2020</td>\n",
       "      <td>2</td>\n",
       "    </tr>\n",
       "    <tr>\n",
       "      <th>4</th>\n",
       "      <td>0104015040</td>\n",
       "      <td>2021</td>\n",
       "      <td>2</td>\n",
       "    </tr>\n",
       "    <tr>\n",
       "      <th>5</th>\n",
       "      <td>0104015040</td>\n",
       "      <td>2022</td>\n",
       "      <td>2</td>\n",
       "    </tr>\n",
       "    <tr>\n",
       "      <th>6</th>\n",
       "      <td>0105006257</td>\n",
       "      <td>2018</td>\n",
       "      <td>24</td>\n",
       "    </tr>\n",
       "    <tr>\n",
       "      <th>7</th>\n",
       "      <td>0105006257</td>\n",
       "      <td>2020</td>\n",
       "      <td>1</td>\n",
       "    </tr>\n",
       "    <tr>\n",
       "      <th>8</th>\n",
       "      <td>0105036692</td>\n",
       "      <td>2018</td>\n",
       "      <td>2</td>\n",
       "    </tr>\n",
       "    <tr>\n",
       "      <th>9</th>\n",
       "      <td>0105036692</td>\n",
       "      <td>2019</td>\n",
       "      <td>2</td>\n",
       "    </tr>\n",
       "  </tbody>\n",
       "</table>\n",
       "</div>"
      ],
      "text/plain": [
       "          tin  year  employees_count\n",
       "0  0101013292  2021                1\n",
       "1  0104015040  2018                2\n",
       "2  0104015040  2019                2\n",
       "3  0104015040  2020                2\n",
       "4  0104015040  2021                2\n",
       "5  0104015040  2022                2\n",
       "6  0105006257  2018               24\n",
       "7  0105006257  2020                1\n",
       "8  0105036692  2018                2\n",
       "9  0105036692  2019                2"
      ]
     },
     "execution_count": 19,
     "metadata": {},
     "output_type": "execute_result"
    }
   ],
   "source": [
    "staff_table.limit(10).toPandas()"
   ]
  },
  {
   "cell_type": "code",
   "execution_count": 20,
   "id": "fb96907a",
   "metadata": {},
   "outputs": [
    {
     "name": "stderr",
     "output_type": "stream",
     "text": [
      "                                                                                \r"
     ]
    }
   ],
   "source": [
    "staff_table.toPandas().to_csv(\n",
    "    \"sshr/csv/data.csv\", index=False, na_rep=\"NA\", float_format=\"%.0f\")"
   ]
  },
  {
   "cell_type": "code",
   "execution_count": 21,
   "id": "08e13172",
   "metadata": {},
   "outputs": [
    {
     "name": "stdout",
     "output_type": "stream",
     "text": [
      "root\n",
      " |-- org_tin: string (nullable = true)\n",
      " |-- revenue: float (nullable = true)\n",
      " |-- expediture: float (nullable = true)\n",
      " |-- data_date: date (nullable = true)\n",
      " |-- doc_date: date (nullable = true)\n",
      " |-- file_id: string (nullable = true)\n",
      "\n"
     ]
    }
   ],
   "source": [
    "revexp_schema = StructType([\n",
    "    StructField(\"org_tin\", StringType(), False),\n",
    "    StructField(\"revenue\", FloatType(), True),\n",
    "    StructField(\"expediture\", FloatType(), True),\n",
    "    StructField(\"data_date\", DateType(), True),\n",
    "    StructField(\"doc_date\", DateType(), True),\n",
    "    StructField(\"file_id\", StringType(), True),\n",
    "])\n",
    "revexp_path = pathlib.Path(\"revexp/csv\")\n",
    "revexp_csv_files = [str(fn) for fn in revexp_path.glob(\"data-*.csv\")]\n",
    "\n",
    "revexp = session.read.options(\n",
    "    header=True, dateFormat=\"dd.MM.yyyy\").schema(revexp_schema).csv(revexp_csv_files)\n",
    "revexp.printSchema()"
   ]
  },
  {
   "cell_type": "code",
   "execution_count": 22,
   "id": "726e5862",
   "metadata": {},
   "outputs": [],
   "source": [
    "window = Window.partitionBy(\"tin\", \"data_date\").orderBy(desc(\"doc_date\"))\n",
    "\n",
    "revexp_table = (\n",
    "    revexp\n",
    "    .withColumnRenamed(\"org_tin\", \"tin\")\n",
    "    .join(target_tins, on=\"tin\", how=\"leftsemi\")\n",
    "    .withColumn(\"row_number\", row_number().over(window))\n",
    "    .filter(\"row_number == 1\")\n",
    "    .select(\"tin\", year(\"data_date\").alias(\"year\"), \"revenue\", \"expediture\")\n",
    "    .orderBy(\"tin\", \"year\")\n",
    "    .cache()\n",
    ")"
   ]
  },
  {
   "cell_type": "code",
   "execution_count": 23,
   "id": "9cff0675",
   "metadata": {},
   "outputs": [
    {
     "name": "stderr",
     "output_type": "stream",
     "text": [
      "                                                                                \r"
     ]
    },
    {
     "data": {
      "text/plain": [
       "161560"
      ]
     },
     "execution_count": 23,
     "metadata": {},
     "output_type": "execute_result"
    }
   ],
   "source": [
    "revexp_table.count()"
   ]
  },
  {
   "cell_type": "code",
   "execution_count": 24,
   "id": "c7dc5697",
   "metadata": {},
   "outputs": [
    {
     "data": {
      "text/html": [
       "<div>\n",
       "<style scoped>\n",
       "    .dataframe tbody tr th:only-of-type {\n",
       "        vertical-align: middle;\n",
       "    }\n",
       "\n",
       "    .dataframe tbody tr th {\n",
       "        vertical-align: top;\n",
       "    }\n",
       "\n",
       "    .dataframe thead th {\n",
       "        text-align: right;\n",
       "    }\n",
       "</style>\n",
       "<table border=\"1\" class=\"dataframe\">\n",
       "  <thead>\n",
       "    <tr style=\"text-align: right;\">\n",
       "      <th></th>\n",
       "      <th>tin</th>\n",
       "      <th>year</th>\n",
       "      <th>revenue</th>\n",
       "      <th>expediture</th>\n",
       "    </tr>\n",
       "  </thead>\n",
       "  <tbody>\n",
       "    <tr>\n",
       "      <th>0</th>\n",
       "      <td>0104015040</td>\n",
       "      <td>2018</td>\n",
       "      <td>864000.0</td>\n",
       "      <td>719000.0</td>\n",
       "    </tr>\n",
       "    <tr>\n",
       "      <th>1</th>\n",
       "      <td>0104015040</td>\n",
       "      <td>2019</td>\n",
       "      <td>424000.0</td>\n",
       "      <td>657000.0</td>\n",
       "    </tr>\n",
       "    <tr>\n",
       "      <th>2</th>\n",
       "      <td>0104015040</td>\n",
       "      <td>2020</td>\n",
       "      <td>0.0</td>\n",
       "      <td>0.0</td>\n",
       "    </tr>\n",
       "    <tr>\n",
       "      <th>3</th>\n",
       "      <td>0104015040</td>\n",
       "      <td>2021</td>\n",
       "      <td>0.0</td>\n",
       "      <td>171000.0</td>\n",
       "    </tr>\n",
       "    <tr>\n",
       "      <th>4</th>\n",
       "      <td>0104015040</td>\n",
       "      <td>2022</td>\n",
       "      <td>0.0</td>\n",
       "      <td>136000.0</td>\n",
       "    </tr>\n",
       "    <tr>\n",
       "      <th>5</th>\n",
       "      <td>0105006257</td>\n",
       "      <td>2018</td>\n",
       "      <td>3560000.0</td>\n",
       "      <td>3215000.0</td>\n",
       "    </tr>\n",
       "    <tr>\n",
       "      <th>6</th>\n",
       "      <td>0105006257</td>\n",
       "      <td>2019</td>\n",
       "      <td>1260000.0</td>\n",
       "      <td>1260000.0</td>\n",
       "    </tr>\n",
       "    <tr>\n",
       "      <th>7</th>\n",
       "      <td>0105006257</td>\n",
       "      <td>2020</td>\n",
       "      <td>0.0</td>\n",
       "      <td>0.0</td>\n",
       "    </tr>\n",
       "    <tr>\n",
       "      <th>8</th>\n",
       "      <td>0105036692</td>\n",
       "      <td>2018</td>\n",
       "      <td>276000.0</td>\n",
       "      <td>264000.0</td>\n",
       "    </tr>\n",
       "    <tr>\n",
       "      <th>9</th>\n",
       "      <td>0105036692</td>\n",
       "      <td>2019</td>\n",
       "      <td>300000.0</td>\n",
       "      <td>271000.0</td>\n",
       "    </tr>\n",
       "  </tbody>\n",
       "</table>\n",
       "</div>"
      ],
      "text/plain": [
       "          tin  year    revenue  expediture\n",
       "0  0104015040  2018   864000.0    719000.0\n",
       "1  0104015040  2019   424000.0    657000.0\n",
       "2  0104015040  2020        0.0         0.0\n",
       "3  0104015040  2021        0.0    171000.0\n",
       "4  0104015040  2022        0.0    136000.0\n",
       "5  0105006257  2018  3560000.0   3215000.0\n",
       "6  0105006257  2019  1260000.0   1260000.0\n",
       "7  0105006257  2020        0.0         0.0\n",
       "8  0105036692  2018   276000.0    264000.0\n",
       "9  0105036692  2019   300000.0    271000.0"
      ]
     },
     "execution_count": 24,
     "metadata": {},
     "output_type": "execute_result"
    }
   ],
   "source": [
    "revexp_table.limit(10).toPandas()"
   ]
  },
  {
   "cell_type": "code",
   "execution_count": 25,
   "id": "57a986ad",
   "metadata": {},
   "outputs": [
    {
     "name": "stderr",
     "output_type": "stream",
     "text": [
      "                                                                                \r"
     ]
    }
   ],
   "source": [
    "revexp_table.toPandas().to_csv(\n",
    "    \"revexp/csv/data.csv\", index=False, na_rep=\"NA\", float_format=\"%.0f\")"
   ]
  }
 ],
 "metadata": {
  "kernelspec": {
   "display_name": "Python 3 (ipykernel)",
   "language": "python",
   "name": "python3"
  },
  "language_info": {
   "codemirror_mode": {
    "name": "ipython",
    "version": 3
   },
   "file_extension": ".py",
   "mimetype": "text/x-python",
   "name": "python",
   "nbconvert_exporter": "python",
   "pygments_lexer": "ipython3",
   "version": "3.10.6"
  }
 },
 "nbformat": 4,
 "nbformat_minor": 5
}
