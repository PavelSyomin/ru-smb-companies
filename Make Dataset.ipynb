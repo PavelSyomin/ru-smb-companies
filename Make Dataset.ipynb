{
 "cells": [
  {
   "cell_type": "code",
   "execution_count": 45,
   "id": "1b131066",
   "metadata": {},
   "outputs": [],
   "source": [
    "import pathlib\n",
    "import os\n",
    "import zipfile\n",
    "\n",
    "import pandas as pd\n",
    "from pyspark import SparkContext, SparkConf, SparkFiles\n",
    "from pyspark.sql import SparkSession, Window\n",
    "from pyspark.sql.functions import desc, lead, row_number, max, min, upper, year\n",
    "from pyspark.sql.types import StructField, StructType, ByteType, DateType, FloatType, IntegerType, ShortType, StringType\n",
    "import tqdm"
   ]
  },
  {
   "cell_type": "code",
   "execution_count": 6,
   "id": "11c42d48",
   "metadata": {},
   "outputs": [],
   "source": [
    "pd.set_option(\"display.max_columns\", None)"
   ]
  },
  {
   "cell_type": "markdown",
   "id": "07a0c57e",
   "metadata": {},
   "source": [
    "# Spark Configuration"
   ]
  },
  {
   "cell_type": "code",
   "execution_count": 2,
   "id": "d0fe9984",
   "metadata": {},
   "outputs": [
    {
     "data": {
      "text/plain": [
       "<pyspark.conf.SparkConf at 0x7fca336b99c0>"
      ]
     },
     "execution_count": 2,
     "metadata": {},
     "output_type": "execute_result"
    }
   ],
   "source": [
    "conf = SparkConf()\n",
    "conf.setMaster(\"local[*]\").setAppName(\"Dataset Maker\")"
   ]
  },
  {
   "cell_type": "code",
   "execution_count": 3,
   "id": "460620f9",
   "metadata": {},
   "outputs": [
    {
     "name": "stderr",
     "output_type": "stream",
     "text": [
      "23/09/11 16:19:18 WARN Utils: Your hostname, asus-notebook resolves to a loopback address: 127.0.1.1; using 192.168.1.186 instead (on interface wlp3s0)\n",
      "23/09/11 16:19:18 WARN Utils: Set SPARK_LOCAL_IP if you need to bind to another address\n",
      "Setting default log level to \"WARN\".\n",
      "To adjust logging level use sc.setLogLevel(newLevel). For SparkR, use setLogLevel(newLevel).\n",
      "23/09/11 16:19:19 WARN NativeCodeLoader: Unable to load native-hadoop library for your platform... using builtin-java classes where applicable\n"
     ]
    }
   ],
   "source": [
    "sc = SparkContext(conf=conf)"
   ]
  },
  {
   "cell_type": "code",
   "execution_count": 4,
   "id": "7444d9c0",
   "metadata": {},
   "outputs": [
    {
     "data": {
      "text/plain": [
       "'http://192.168.1.186:4040'"
      ]
     },
     "execution_count": 4,
     "metadata": {},
     "output_type": "execute_result"
    }
   ],
   "source": [
    "sc.uiWebUrl"
   ]
  },
  {
   "cell_type": "code",
   "execution_count": 5,
   "id": "f86e0dc0",
   "metadata": {},
   "outputs": [],
   "source": [
    "session = SparkSession(sc)"
   ]
  },
  {
   "cell_type": "markdown",
   "id": "d0660697",
   "metadata": {},
   "source": [
    "# Dataset Based on Small&Meduim Business Data"
   ]
  },
  {
   "cell_type": "code",
   "execution_count": 7,
   "id": "2f99de92",
   "metadata": {},
   "outputs": [],
   "source": [
    "rsmp_schema = StructType([\n",
    "    StructField(\"kind\", ByteType(), False),\n",
    "    StructField(\"category\", ByteType(), False),\n",
    "    StructField(\"reestr_date\", DateType(), False),\n",
    "    StructField(\"date\", DateType(), False),\n",
    "    StructField(\"ind_tin\", StringType(), True),\n",
    "    StructField(\"ind_number\", StringType(), True),\n",
    "    StructField(\"first_name\", StringType(), True),\n",
    "    StructField(\"last_name\", StringType(), True),\n",
    "    StructField(\"patronymic\", StringType(), True),\n",
    "    StructField(\"org_name\", StringType(), True),\n",
    "    StructField(\"org_short_name\", StringType(), True),\n",
    "    StructField(\"org_tin\", StringType(), True),\n",
    "    StructField(\"org_number\", StringType(), True),\n",
    "    StructField(\"region_code\", ByteType(), True),\n",
    "    StructField(\"region_name\", StringType(), True),\n",
    "    StructField(\"region_type\", StringType(), True),\n",
    "    StructField(\"district_name\", StringType(), True),\n",
    "    StructField(\"district_type\", StringType(), True),\n",
    "    StructField(\"city_name\", StringType(), True),    \n",
    "    StructField(\"city_type\", StringType(), True),\n",
    "    StructField(\"settlement_name\", StringType(), True),\n",
    "    StructField(\"settlement_type\", StringType(), True),\n",
    "    StructField(\"activity_code_main\", StringType(), False),\n",
    "    StructField(\"activity_codes_additional\", StringType(), True),\n",
    "    StructField(\"total\", ShortType(), True), \n",
    "    StructField(\"file_id\", StringType(), True), \n",
    "])\n",
    "rsmp_path = pathlib.Path(\"rsmp/csv\")\n",
    "rsmp_csv_files = [str(fn) for fn in rsmp_path.glob(\"*.csv\")]"
   ]
  },
  {
   "cell_type": "code",
   "execution_count": 38,
   "id": "e1ccf1b5",
   "metadata": {},
   "outputs": [
    {
     "name": "stderr",
     "output_type": "stream",
     "text": [
      "\r",
      "[Stage 14:====================================>                   (55 + 4) / 84]\r",
      "\r",
      "[Stage 14:======================================================> (81 + 3) / 84]\r"
     ]
    },
    {
     "name": "stdout",
     "output_type": "stream",
     "text": [
      "root\n",
      " |-- kind: byte (nullable = true)\n",
      " |-- category: byte (nullable = true)\n",
      " |-- reestr_date: date (nullable = true)\n",
      " |-- date: date (nullable = true)\n",
      " |-- ind_tin: string (nullable = true)\n",
      " |-- ind_number: string (nullable = true)\n",
      " |-- first_name: string (nullable = true)\n",
      " |-- last_name: string (nullable = true)\n",
      " |-- patronymic: string (nullable = true)\n",
      " |-- org_name: string (nullable = true)\n",
      " |-- org_short_name: string (nullable = true)\n",
      " |-- org_tin: string (nullable = true)\n",
      " |-- org_number: string (nullable = true)\n",
      " |-- region_code: byte (nullable = true)\n",
      " |-- region_name: string (nullable = true)\n",
      " |-- region_type: string (nullable = true)\n",
      " |-- district_name: string (nullable = true)\n",
      " |-- district_type: string (nullable = true)\n",
      " |-- city_name: string (nullable = true)\n",
      " |-- city_type: string (nullable = true)\n",
      " |-- settlement_name: string (nullable = true)\n",
      " |-- settlement_type: string (nullable = true)\n",
      " |-- activity_code_main: string (nullable = true)\n",
      " |-- activity_codes_additional: string (nullable = true)\n",
      " |-- total: short (nullable = true)\n",
      " |-- file_id: string (nullable = true)\n",
      "\n"
     ]
    },
    {
     "name": "stderr",
     "output_type": "stream",
     "text": [
      "\r",
      "                                                                                \r"
     ]
    }
   ],
   "source": [
    "rsmp = session.read.options(header=True, dateFormat=\"dd.MM.yyyy\", escape='\"').schema(rsmp_schema).csv(rsmp_csv_files)\n",
    "rsmp.printSchema()"
   ]
  },
  {
   "cell_type": "code",
   "execution_count": 84,
   "id": "952a8b43",
   "metadata": {},
   "outputs": [],
   "source": [
    "reestr_org_tins = (\n",
    "    rsmp\n",
    "    .filter(\"kind = 1\")\n",
    "    .dropDuplicates([\"org_tin\"])\n",
    "    .select(\"org_tin\")\n",
    ").cache()"
   ]
  },
  {
   "cell_type": "code",
   "execution_count": 55,
   "id": "cdcd6384",
   "metadata": {},
   "outputs": [
    {
     "name": "stderr",
     "output_type": "stream",
     "text": [
      "[Stage 56:=====================================================>  (20 + 1) / 21]\r"
     ]
    },
    {
     "name": "stdout",
     "output_type": "stream",
     "text": [
      "+----------+\n",
      "|   org_tin|\n",
      "+----------+\n",
      "|7704331019|\n",
      "|7604259432|\n",
      "|2130011462|\n",
      "|7325150259|\n",
      "|9104006275|\n",
      "+----------+\n",
      "only showing top 5 rows\n",
      "\n"
     ]
    },
    {
     "name": "stderr",
     "output_type": "stream",
     "text": [
      "\r",
      "                                                                                \r"
     ]
    }
   ],
   "source": [
    "reestr_org_tins.show(5)"
   ]
  },
  {
   "cell_type": "code",
   "execution_count": 85,
   "id": "beb3977a",
   "metadata": {},
   "outputs": [
    {
     "name": "stderr",
     "output_type": "stream",
     "text": [
      "                                                                                \r"
     ]
    },
    {
     "data": {
      "text/plain": [
       "72591"
      ]
     },
     "execution_count": 85,
     "metadata": {},
     "output_type": "execute_result"
    }
   ],
   "source": [
    "reestr_org_tins.count()"
   ]
  },
  {
   "cell_type": "code",
   "execution_count": 33,
   "id": "443d2ab1",
   "metadata": {},
   "outputs": [
    {
     "name": "stdout",
     "output_type": "stream",
     "text": [
      "kind,category,reestr_date,date,ind_tin,ind_number,first_name,last_name,patronymic,org_name,org_short_name,org_tin,org_number,region_code,region_name,region_type,district_name,district_type,city_name,city_type,settlement_name,settlement_type,activity_code_main,activity_codes_additional,total,file_id\n",
      "1,1,10.02.2017,10.01.2019,,,,,,\"ОБЩЕСТВО С ОГРАНИЧЕННОЙ ОТВЕТСТВЕННОСТЬЮ \"\"Г.Е.Н.И.Я.\"\"\",\"ООО \"\"Г.Е.Н.И.Я.\"\"\",8602274490,,86,ХАНТЫ-МАНСИЙСКИЙ АВТОНОМНЫЙ ОКРУГ - ЮГРА,АВТОНОМНЫЙ ОКРУГ,,,СУРГУТ,ГОРОД,,,69.10,\"69.20.3,\",900,VO_RRMSPSV_0000_9965_20190110_00019b6b-66db-47a3-9dc1-531f91eed871\n",
      "1,1,10.10.2016,10.01.2019,,,,,,\"ОБЩЕСТВО С ОГРАНИЧЕННОЙ ОТВЕТСТВЕННОСТЬЮ \"\"ЮРИДИЧЕСКИЙ КОНСАЛТИНГ\"\"\",\"ООО \"\"ЮРКОНСАЛТИНГ\"\"\",8602272084,,86,ХАНТЫ-МАНСИЙСКИЙ АВТОНОМНЫЙ ОКРУГ - ЮГРА,АВТОНОМНЫЙ ОКРУГ,,,СУРГУТ,ГОРОД,,,69.10,\"73.20, 73.11, 68.10, 81.21, 68.31, 69.20, 78.10, 68.20,\",900,VO_RRMSPSV_0000_9965_20190110_00019b6b-66db-47a3-9dc1-531f91eed871\n",
      "1,1,01.08.2016,10.01.2019,,,,,,\"ОБЩЕСТВО С ОГРАНИЧЕННОЙ ОТВЕТСТ\n"
     ]
    }
   ],
   "source": [
    "with open(\"rsmp/csv/data-01102019-structure-08012016.csv\") as f:\n",
    "    print(f.read(1000))"
   ]
  },
  {
   "cell_type": "code",
   "execution_count": 43,
   "id": "30f226e3",
   "metadata": {},
   "outputs": [
    {
     "name": "stderr",
     "output_type": "stream",
     "text": [
      "                                                                                \r"
     ]
    },
    {
     "data": {
      "text/html": [
       "<div>\n",
       "<style scoped>\n",
       "    .dataframe tbody tr th:only-of-type {\n",
       "        vertical-align: middle;\n",
       "    }\n",
       "\n",
       "    .dataframe tbody tr th {\n",
       "        vertical-align: top;\n",
       "    }\n",
       "\n",
       "    .dataframe thead th {\n",
       "        text-align: right;\n",
       "    }\n",
       "</style>\n",
       "<table border=\"1\" class=\"dataframe\">\n",
       "  <thead>\n",
       "    <tr style=\"text-align: right;\">\n",
       "      <th></th>\n",
       "      <th>kind</th>\n",
       "      <th>category</th>\n",
       "      <th>reestr_date</th>\n",
       "      <th>date</th>\n",
       "      <th>ind_tin</th>\n",
       "      <th>ind_number</th>\n",
       "      <th>first_name</th>\n",
       "      <th>last_name</th>\n",
       "      <th>patronymic</th>\n",
       "      <th>org_name</th>\n",
       "      <th>org_short_name</th>\n",
       "      <th>org_tin</th>\n",
       "      <th>org_number</th>\n",
       "      <th>region_code</th>\n",
       "      <th>region_name</th>\n",
       "      <th>region_type</th>\n",
       "      <th>district_name</th>\n",
       "      <th>district_type</th>\n",
       "      <th>city_name</th>\n",
       "      <th>city_type</th>\n",
       "      <th>settlement_name</th>\n",
       "      <th>settlement_type</th>\n",
       "      <th>activity_code_main</th>\n",
       "      <th>activity_codes_additional</th>\n",
       "      <th>total</th>\n",
       "      <th>file_id</th>\n",
       "    </tr>\n",
       "  </thead>\n",
       "  <tbody>\n",
       "    <tr>\n",
       "      <th>0</th>\n",
       "      <td>1</td>\n",
       "      <td>1</td>\n",
       "      <td>2016-08-01</td>\n",
       "      <td>2016-12-10</td>\n",
       "      <td>None</td>\n",
       "      <td>None</td>\n",
       "      <td>None</td>\n",
       "      <td>None</td>\n",
       "      <td>None</td>\n",
       "      <td>ОБЩЕСТВО С ОГРАНИЧЕННОЙ ОТВЕТСТВЕННОСТЬЮ \"АКЦЕНТ\"</td>\n",
       "      <td>ООО \"АКЦЕНТ\"</td>\n",
       "      <td>0276115295</td>\n",
       "      <td>None</td>\n",
       "      <td>2</td>\n",
       "      <td>БАШКОРТОСТАН</td>\n",
       "      <td>РЕСПУБЛИКА</td>\n",
       "      <td>None</td>\n",
       "      <td>None</td>\n",
       "      <td>УФА</td>\n",
       "      <td>ГОРОД</td>\n",
       "      <td>None</td>\n",
       "      <td>None</td>\n",
       "      <td>69.10</td>\n",
       "      <td>68.31.3, 68.31.4, 68.31.1, 68.31.2, 69.20,</td>\n",
       "      <td>901</td>\n",
       "      <td>VO_RRMSPSV_0000_9965_20161210_eafd6d55-a976-4f...</td>\n",
       "    </tr>\n",
       "    <tr>\n",
       "      <th>1</th>\n",
       "      <td>1</td>\n",
       "      <td>1</td>\n",
       "      <td>2016-08-01</td>\n",
       "      <td>2017-01-10</td>\n",
       "      <td>None</td>\n",
       "      <td>None</td>\n",
       "      <td>None</td>\n",
       "      <td>None</td>\n",
       "      <td>None</td>\n",
       "      <td>ОБЩЕСТВО С ОГРАНИЧЕННОЙ ОТВЕТСТВЕННОСТЬЮ \"АКЦЕНТ\"</td>\n",
       "      <td>ООО \"АКЦЕНТ\"</td>\n",
       "      <td>0276115295</td>\n",
       "      <td>None</td>\n",
       "      <td>2</td>\n",
       "      <td>БАШКОРТОСТАН</td>\n",
       "      <td>РЕСПУБЛИКА</td>\n",
       "      <td>None</td>\n",
       "      <td>None</td>\n",
       "      <td>УФА</td>\n",
       "      <td>ГОРОД</td>\n",
       "      <td>None</td>\n",
       "      <td>None</td>\n",
       "      <td>69.10</td>\n",
       "      <td>68.31.1, 68.31.4, 68.31.2, 69.20, 68.31.3,</td>\n",
       "      <td>901</td>\n",
       "      <td>VO_RRMSPSV_0000_9965_20170110_7caa5f9d-3818-41...</td>\n",
       "    </tr>\n",
       "    <tr>\n",
       "      <th>2</th>\n",
       "      <td>1</td>\n",
       "      <td>1</td>\n",
       "      <td>2016-08-01</td>\n",
       "      <td>2017-02-10</td>\n",
       "      <td>None</td>\n",
       "      <td>None</td>\n",
       "      <td>None</td>\n",
       "      <td>None</td>\n",
       "      <td>None</td>\n",
       "      <td>ОБЩЕСТВО С ОГРАНИЧЕННОЙ ОТВЕТСТВЕННОСТЬЮ \"АКЦЕНТ\"</td>\n",
       "      <td>ООО \"АКЦЕНТ\"</td>\n",
       "      <td>0276115295</td>\n",
       "      <td>None</td>\n",
       "      <td>2</td>\n",
       "      <td>БАШКОРТОСТАН</td>\n",
       "      <td>РЕСПУБЛИКА</td>\n",
       "      <td>None</td>\n",
       "      <td>None</td>\n",
       "      <td>УФА</td>\n",
       "      <td>ГОРОД</td>\n",
       "      <td>None</td>\n",
       "      <td>None</td>\n",
       "      <td>69.10</td>\n",
       "      <td>68.31.2, 69.20, 68.31.3, 68.31.4, 68.31.1,</td>\n",
       "      <td>900</td>\n",
       "      <td>VO_RRMSPSV_0000_9965_20170210_e90d6814-9c94-46...</td>\n",
       "    </tr>\n",
       "    <tr>\n",
       "      <th>3</th>\n",
       "      <td>1</td>\n",
       "      <td>1</td>\n",
       "      <td>2016-08-01</td>\n",
       "      <td>2017-03-10</td>\n",
       "      <td>None</td>\n",
       "      <td>None</td>\n",
       "      <td>None</td>\n",
       "      <td>None</td>\n",
       "      <td>None</td>\n",
       "      <td>ОБЩЕСТВО С ОГРАНИЧЕННОЙ ОТВЕТСТВЕННОСТЬЮ \"АКЦЕНТ\"</td>\n",
       "      <td>ООО \"АКЦЕНТ\"</td>\n",
       "      <td>0276115295</td>\n",
       "      <td>None</td>\n",
       "      <td>2</td>\n",
       "      <td>БАШКОРТОСТАН</td>\n",
       "      <td>РЕСПУБЛИКА</td>\n",
       "      <td>None</td>\n",
       "      <td>None</td>\n",
       "      <td>УФА</td>\n",
       "      <td>ГОРОД</td>\n",
       "      <td>None</td>\n",
       "      <td>None</td>\n",
       "      <td>69.10</td>\n",
       "      <td>69.20, 68.31.3, 68.31.1, 68.31.2, 68.31.4,</td>\n",
       "      <td>901</td>\n",
       "      <td>VO_RRMSPSV_0000_9965_20170310_29af6a36-a956-47...</td>\n",
       "    </tr>\n",
       "    <tr>\n",
       "      <th>4</th>\n",
       "      <td>1</td>\n",
       "      <td>1</td>\n",
       "      <td>2016-08-01</td>\n",
       "      <td>2017-04-10</td>\n",
       "      <td>None</td>\n",
       "      <td>None</td>\n",
       "      <td>None</td>\n",
       "      <td>None</td>\n",
       "      <td>None</td>\n",
       "      <td>ОБЩЕСТВО С ОГРАНИЧЕННОЙ ОТВЕТСТВЕННОСТЬЮ \"АКЦЕНТ\"</td>\n",
       "      <td>ООО \"АКЦЕНТ\"</td>\n",
       "      <td>0276115295</td>\n",
       "      <td>None</td>\n",
       "      <td>2</td>\n",
       "      <td>БАШКОРТОСТАН</td>\n",
       "      <td>РЕСПУБЛИКА</td>\n",
       "      <td>None</td>\n",
       "      <td>None</td>\n",
       "      <td>УФА</td>\n",
       "      <td>ГОРОД</td>\n",
       "      <td>None</td>\n",
       "      <td>None</td>\n",
       "      <td>69.10</td>\n",
       "      <td>68.31.2, 68.31.4, 69.20, 68.31.1, 68.31.3,</td>\n",
       "      <td>900</td>\n",
       "      <td>VO_RRMSPSV_0000_9965_20170410_e2be2ec0-0825-42...</td>\n",
       "    </tr>\n",
       "    <tr>\n",
       "      <th>...</th>\n",
       "      <td>...</td>\n",
       "      <td>...</td>\n",
       "      <td>...</td>\n",
       "      <td>...</td>\n",
       "      <td>...</td>\n",
       "      <td>...</td>\n",
       "      <td>...</td>\n",
       "      <td>...</td>\n",
       "      <td>...</td>\n",
       "      <td>...</td>\n",
       "      <td>...</td>\n",
       "      <td>...</td>\n",
       "      <td>...</td>\n",
       "      <td>...</td>\n",
       "      <td>...</td>\n",
       "      <td>...</td>\n",
       "      <td>...</td>\n",
       "      <td>...</td>\n",
       "      <td>...</td>\n",
       "      <td>...</td>\n",
       "      <td>...</td>\n",
       "      <td>...</td>\n",
       "      <td>...</td>\n",
       "      <td>...</td>\n",
       "      <td>...</td>\n",
       "      <td>...</td>\n",
       "    </tr>\n",
       "    <tr>\n",
       "      <th>75</th>\n",
       "      <td>1</td>\n",
       "      <td>1</td>\n",
       "      <td>2016-08-01</td>\n",
       "      <td>2023-03-10</td>\n",
       "      <td>None</td>\n",
       "      <td>None</td>\n",
       "      <td>None</td>\n",
       "      <td>None</td>\n",
       "      <td>None</td>\n",
       "      <td>ОБЩЕСТВО С ОГРАНИЧЕННОЙ ОТВЕТСТВЕННОСТЬЮ \"АКЦЕНТ\"</td>\n",
       "      <td>ООО \"АКЦЕНТ\"</td>\n",
       "      <td>0276115295</td>\n",
       "      <td>1080276003026</td>\n",
       "      <td>2</td>\n",
       "      <td>БАШКОРТОСТАН</td>\n",
       "      <td>РЕСП.</td>\n",
       "      <td>None</td>\n",
       "      <td>None</td>\n",
       "      <td>Уфа</td>\n",
       "      <td>Г.</td>\n",
       "      <td>None</td>\n",
       "      <td>None</td>\n",
       "      <td>69.10</td>\n",
       "      <td>68.31.1, 68.31.2, 68.31.3, 68.31.4, 69.20,</td>\n",
       "      <td>900</td>\n",
       "      <td>VO_RRMSPSV_0000_9965_20230310_0c0ddf02-6d4c-4c...</td>\n",
       "    </tr>\n",
       "    <tr>\n",
       "      <th>76</th>\n",
       "      <td>1</td>\n",
       "      <td>1</td>\n",
       "      <td>2016-08-01</td>\n",
       "      <td>2023-04-10</td>\n",
       "      <td>None</td>\n",
       "      <td>None</td>\n",
       "      <td>None</td>\n",
       "      <td>None</td>\n",
       "      <td>None</td>\n",
       "      <td>ОБЩЕСТВО С ОГРАНИЧЕННОЙ ОТВЕТСТВЕННОСТЬЮ \"АКЦЕНТ\"</td>\n",
       "      <td>ООО \"АКЦЕНТ\"</td>\n",
       "      <td>0276115295</td>\n",
       "      <td>1080276003026</td>\n",
       "      <td>2</td>\n",
       "      <td>БАШКОРТОСТАН</td>\n",
       "      <td>РЕСП.</td>\n",
       "      <td>None</td>\n",
       "      <td>None</td>\n",
       "      <td>Уфа</td>\n",
       "      <td>Г.</td>\n",
       "      <td>None</td>\n",
       "      <td>None</td>\n",
       "      <td>69.10</td>\n",
       "      <td>68.31.1, 68.31.2, 68.31.3, 68.31.4, 69.20,</td>\n",
       "      <td>900</td>\n",
       "      <td>VO_RRMSPSV_0000_9965_20230411_1955b9df-34c0-4d...</td>\n",
       "    </tr>\n",
       "    <tr>\n",
       "      <th>77</th>\n",
       "      <td>1</td>\n",
       "      <td>1</td>\n",
       "      <td>2016-08-01</td>\n",
       "      <td>2023-05-10</td>\n",
       "      <td>None</td>\n",
       "      <td>None</td>\n",
       "      <td>None</td>\n",
       "      <td>None</td>\n",
       "      <td>None</td>\n",
       "      <td>ОБЩЕСТВО С ОГРАНИЧЕННОЙ ОТВЕТСТВЕННОСТЬЮ \"АКЦЕНТ\"</td>\n",
       "      <td>ООО \"АКЦЕНТ\"</td>\n",
       "      <td>0276115295</td>\n",
       "      <td>1080276003026</td>\n",
       "      <td>2</td>\n",
       "      <td>БАШКОРТОСТАН</td>\n",
       "      <td>РЕСП.</td>\n",
       "      <td>None</td>\n",
       "      <td>None</td>\n",
       "      <td>Уфа</td>\n",
       "      <td>Г.</td>\n",
       "      <td>None</td>\n",
       "      <td>None</td>\n",
       "      <td>69.10</td>\n",
       "      <td>68.31.4, 68.31.2, 69.20, 68.31.3, 68.31.1,</td>\n",
       "      <td>901</td>\n",
       "      <td>VO_RRMSPSV_0000_9965_20230511_131d450c-2c9b-4e...</td>\n",
       "    </tr>\n",
       "    <tr>\n",
       "      <th>78</th>\n",
       "      <td>1</td>\n",
       "      <td>1</td>\n",
       "      <td>2016-08-01</td>\n",
       "      <td>2023-06-10</td>\n",
       "      <td>None</td>\n",
       "      <td>None</td>\n",
       "      <td>None</td>\n",
       "      <td>None</td>\n",
       "      <td>None</td>\n",
       "      <td>ОБЩЕСТВО С ОГРАНИЧЕННОЙ ОТВЕТСТВЕННОСТЬЮ \"АКЦЕНТ\"</td>\n",
       "      <td>ООО \"АКЦЕНТ\"</td>\n",
       "      <td>0276115295</td>\n",
       "      <td>1080276003026</td>\n",
       "      <td>2</td>\n",
       "      <td>БАШКОРТОСТАН</td>\n",
       "      <td>РЕСП.</td>\n",
       "      <td>None</td>\n",
       "      <td>None</td>\n",
       "      <td>Уфа</td>\n",
       "      <td>Г.</td>\n",
       "      <td>None</td>\n",
       "      <td>None</td>\n",
       "      <td>69.10</td>\n",
       "      <td>68.31.4, 68.31.2, 69.20, 68.31.3, 68.31.1,</td>\n",
       "      <td>901</td>\n",
       "      <td>VO_RRMSPSV_0000_9965_20230611_deaeaa5b-3333-48...</td>\n",
       "    </tr>\n",
       "    <tr>\n",
       "      <th>79</th>\n",
       "      <td>1</td>\n",
       "      <td>1</td>\n",
       "      <td>2016-08-01</td>\n",
       "      <td>2023-07-10</td>\n",
       "      <td>None</td>\n",
       "      <td>None</td>\n",
       "      <td>None</td>\n",
       "      <td>None</td>\n",
       "      <td>None</td>\n",
       "      <td>ОБЩЕСТВО С ОГРАНИЧЕННОЙ ОТВЕТСТВЕННОСТЬЮ \"АКЦЕНТ\"</td>\n",
       "      <td>ООО \"АКЦЕНТ\"</td>\n",
       "      <td>0276115295</td>\n",
       "      <td>1080276003026</td>\n",
       "      <td>2</td>\n",
       "      <td>БАШКОРТОСТАН</td>\n",
       "      <td>РЕСП.</td>\n",
       "      <td>None</td>\n",
       "      <td>None</td>\n",
       "      <td>Уфа</td>\n",
       "      <td>Г.</td>\n",
       "      <td>None</td>\n",
       "      <td>None</td>\n",
       "      <td>69.10</td>\n",
       "      <td>68.31.4, 68.31.2, 69.20, 68.31.3, 68.31.1,</td>\n",
       "      <td>900</td>\n",
       "      <td>VO_RRMSPSV_0000_9965_20230713_83343a42-4d5f-47...</td>\n",
       "    </tr>\n",
       "  </tbody>\n",
       "</table>\n",
       "<p>80 rows × 26 columns</p>\n",
       "</div>"
      ],
      "text/plain": [
       "    kind  category reestr_date        date ind_tin ind_number first_name  \\\n",
       "0      1         1  2016-08-01  2016-12-10    None       None       None   \n",
       "1      1         1  2016-08-01  2017-01-10    None       None       None   \n",
       "2      1         1  2016-08-01  2017-02-10    None       None       None   \n",
       "3      1         1  2016-08-01  2017-03-10    None       None       None   \n",
       "4      1         1  2016-08-01  2017-04-10    None       None       None   \n",
       "..   ...       ...         ...         ...     ...        ...        ...   \n",
       "75     1         1  2016-08-01  2023-03-10    None       None       None   \n",
       "76     1         1  2016-08-01  2023-04-10    None       None       None   \n",
       "77     1         1  2016-08-01  2023-05-10    None       None       None   \n",
       "78     1         1  2016-08-01  2023-06-10    None       None       None   \n",
       "79     1         1  2016-08-01  2023-07-10    None       None       None   \n",
       "\n",
       "   last_name patronymic                                           org_name  \\\n",
       "0       None       None  ОБЩЕСТВО С ОГРАНИЧЕННОЙ ОТВЕТСТВЕННОСТЬЮ \"АКЦЕНТ\"   \n",
       "1       None       None  ОБЩЕСТВО С ОГРАНИЧЕННОЙ ОТВЕТСТВЕННОСТЬЮ \"АКЦЕНТ\"   \n",
       "2       None       None  ОБЩЕСТВО С ОГРАНИЧЕННОЙ ОТВЕТСТВЕННОСТЬЮ \"АКЦЕНТ\"   \n",
       "3       None       None  ОБЩЕСТВО С ОГРАНИЧЕННОЙ ОТВЕТСТВЕННОСТЬЮ \"АКЦЕНТ\"   \n",
       "4       None       None  ОБЩЕСТВО С ОГРАНИЧЕННОЙ ОТВЕТСТВЕННОСТЬЮ \"АКЦЕНТ\"   \n",
       "..       ...        ...                                                ...   \n",
       "75      None       None  ОБЩЕСТВО С ОГРАНИЧЕННОЙ ОТВЕТСТВЕННОСТЬЮ \"АКЦЕНТ\"   \n",
       "76      None       None  ОБЩЕСТВО С ОГРАНИЧЕННОЙ ОТВЕТСТВЕННОСТЬЮ \"АКЦЕНТ\"   \n",
       "77      None       None  ОБЩЕСТВО С ОГРАНИЧЕННОЙ ОТВЕТСТВЕННОСТЬЮ \"АКЦЕНТ\"   \n",
       "78      None       None  ОБЩЕСТВО С ОГРАНИЧЕННОЙ ОТВЕТСТВЕННОСТЬЮ \"АКЦЕНТ\"   \n",
       "79      None       None  ОБЩЕСТВО С ОГРАНИЧЕННОЙ ОТВЕТСТВЕННОСТЬЮ \"АКЦЕНТ\"   \n",
       "\n",
       "   org_short_name     org_tin     org_number  region_code   region_name  \\\n",
       "0    ООО \"АКЦЕНТ\"  0276115295           None            2  БАШКОРТОСТАН   \n",
       "1    ООО \"АКЦЕНТ\"  0276115295           None            2  БАШКОРТОСТАН   \n",
       "2    ООО \"АКЦЕНТ\"  0276115295           None            2  БАШКОРТОСТАН   \n",
       "3    ООО \"АКЦЕНТ\"  0276115295           None            2  БАШКОРТОСТАН   \n",
       "4    ООО \"АКЦЕНТ\"  0276115295           None            2  БАШКОРТОСТАН   \n",
       "..            ...         ...            ...          ...           ...   \n",
       "75   ООО \"АКЦЕНТ\"  0276115295  1080276003026            2  БАШКОРТОСТАН   \n",
       "76   ООО \"АКЦЕНТ\"  0276115295  1080276003026            2  БАШКОРТОСТАН   \n",
       "77   ООО \"АКЦЕНТ\"  0276115295  1080276003026            2  БАШКОРТОСТАН   \n",
       "78   ООО \"АКЦЕНТ\"  0276115295  1080276003026            2  БАШКОРТОСТАН   \n",
       "79   ООО \"АКЦЕНТ\"  0276115295  1080276003026            2  БАШКОРТОСТАН   \n",
       "\n",
       "   region_type district_name district_type city_name city_type  \\\n",
       "0   РЕСПУБЛИКА          None          None       УФА     ГОРОД   \n",
       "1   РЕСПУБЛИКА          None          None       УФА     ГОРОД   \n",
       "2   РЕСПУБЛИКА          None          None       УФА     ГОРОД   \n",
       "3   РЕСПУБЛИКА          None          None       УФА     ГОРОД   \n",
       "4   РЕСПУБЛИКА          None          None       УФА     ГОРОД   \n",
       "..         ...           ...           ...       ...       ...   \n",
       "75       РЕСП.          None          None       Уфа        Г.   \n",
       "76       РЕСП.          None          None       Уфа        Г.   \n",
       "77       РЕСП.          None          None       Уфа        Г.   \n",
       "78       РЕСП.          None          None       Уфа        Г.   \n",
       "79       РЕСП.          None          None       Уфа        Г.   \n",
       "\n",
       "   settlement_name settlement_type activity_code_main  \\\n",
       "0             None            None              69.10   \n",
       "1             None            None              69.10   \n",
       "2             None            None              69.10   \n",
       "3             None            None              69.10   \n",
       "4             None            None              69.10   \n",
       "..             ...             ...                ...   \n",
       "75            None            None              69.10   \n",
       "76            None            None              69.10   \n",
       "77            None            None              69.10   \n",
       "78            None            None              69.10   \n",
       "79            None            None              69.10   \n",
       "\n",
       "                     activity_codes_additional  total  \\\n",
       "0   68.31.3, 68.31.4, 68.31.1, 68.31.2, 69.20,    901   \n",
       "1   68.31.1, 68.31.4, 68.31.2, 69.20, 68.31.3,    901   \n",
       "2   68.31.2, 69.20, 68.31.3, 68.31.4, 68.31.1,    900   \n",
       "3   69.20, 68.31.3, 68.31.1, 68.31.2, 68.31.4,    901   \n",
       "4   68.31.2, 68.31.4, 69.20, 68.31.1, 68.31.3,    900   \n",
       "..                                         ...    ...   \n",
       "75  68.31.1, 68.31.2, 68.31.3, 68.31.4, 69.20,    900   \n",
       "76  68.31.1, 68.31.2, 68.31.3, 68.31.4, 69.20,    900   \n",
       "77  68.31.4, 68.31.2, 69.20, 68.31.3, 68.31.1,    901   \n",
       "78  68.31.4, 68.31.2, 69.20, 68.31.3, 68.31.1,    901   \n",
       "79  68.31.4, 68.31.2, 69.20, 68.31.3, 68.31.1,    900   \n",
       "\n",
       "                                              file_id  \n",
       "0   VO_RRMSPSV_0000_9965_20161210_eafd6d55-a976-4f...  \n",
       "1   VO_RRMSPSV_0000_9965_20170110_7caa5f9d-3818-41...  \n",
       "2   VO_RRMSPSV_0000_9965_20170210_e90d6814-9c94-46...  \n",
       "3   VO_RRMSPSV_0000_9965_20170310_29af6a36-a956-47...  \n",
       "4   VO_RRMSPSV_0000_9965_20170410_e2be2ec0-0825-42...  \n",
       "..                                                ...  \n",
       "75  VO_RRMSPSV_0000_9965_20230310_0c0ddf02-6d4c-4c...  \n",
       "76  VO_RRMSPSV_0000_9965_20230411_1955b9df-34c0-4d...  \n",
       "77  VO_RRMSPSV_0000_9965_20230511_131d450c-2c9b-4e...  \n",
       "78  VO_RRMSPSV_0000_9965_20230611_deaeaa5b-3333-48...  \n",
       "79  VO_RRMSPSV_0000_9965_20230713_83343a42-4d5f-47...  \n",
       "\n",
       "[80 rows x 26 columns]"
      ]
     },
     "execution_count": 43,
     "metadata": {},
     "output_type": "execute_result"
    }
   ],
   "source": [
    "rsmp.filter(\"org_tin = 0276115295\").orderBy(\"date\").toPandas()"
   ]
  },
  {
   "cell_type": "code",
   "execution_count": 59,
   "id": "f70efbb3",
   "metadata": {},
   "outputs": [],
   "source": [
    "cols_to_check_for_duplicates = [\n",
    "    \"kind\", \"category\",\n",
    "    \"first_name\", \"last_name\", \"patronymic\",\n",
    "    \"org_name\", \"org_short_name\",\n",
    "    \"region_code\", \"region_name\",\n",
    "    \"district_name\", \"city_name\", \"settlement_name\",\n",
    "    \"activity_code_main\"\n",
    "]\n",
    "w_for_start_date = Window.partitionBy(cols_to_check_for_duplicates).orderBy(\"date\")\n",
    "w_for_end_date = Window.partitionBy(\"ind_tin\", \"org_tin\").orderBy(\"date\")\n",
    "\n",
    "rsmp_table = (\n",
    "    rsmp\n",
    "    .withColumn(\"row_number\", row_number().over(w_for_start_date))\n",
    "    .filter(\"row_number = 1\")\n",
    "    .withColumn(\"end_date\", lead(\"date\").over(w_for_end_date))\n",
    "    .withColumnRenamed(\"date\", \"start_date\")\n",
    "    .select(\n",
    "        \"kind\",\n",
    "        \"category\",\n",
    "        \"ind_tin\",\n",
    "        \"ind_number\",\n",
    "        upper(\"first_name\").alias(\"first_name\"),\n",
    "        upper(\"last_name\").alias(\"last_name\"),\n",
    "        upper(\"patronymic\").alias(\"patronymic\"),\n",
    "        upper(\"org_name\").alias(\"org_name\"),\n",
    "        upper(\"org_short_name\").alias(\"org_short_name\"),\n",
    "        \"org_tin\", \n",
    "        \"org_number\",\n",
    "        \"region_code\",\n",
    "        upper(\"region_name\").alias(\"region_name\"),\n",
    "        upper(\"region_type\").alias(\"region_type\"),\n",
    "        upper(\"district_name\").alias(\"district_name\"),\n",
    "        upper(\"district_type\").alias(\"district_type\"),\n",
    "        upper(\"city_name\").alias(\"city_name\"),\n",
    "        upper(\"city_type\").alias(\"city_type\"),\n",
    "        upper(\"settlement_name\").alias(\"settlement_name\"),\n",
    "        upper(\"settlement_type\").alias(\"settlement_type\"),\n",
    "        \"activity_code_main\",\n",
    "        \"start_date\",\n",
    "        \"end_date\",\n",
    "    )\n",
    "    .cache()\n",
    ")"
   ]
  },
  {
   "cell_type": "code",
   "execution_count": 61,
   "id": "fabb239c",
   "metadata": {},
   "outputs": [
    {
     "name": "stderr",
     "output_type": "stream",
     "text": [
      "                                                                                \r"
     ]
    },
    {
     "data": {
      "text/plain": [
       "172095"
      ]
     },
     "execution_count": 61,
     "metadata": {},
     "output_type": "execute_result"
    }
   ],
   "source": [
    "rsmp_table.count()"
   ]
  },
  {
   "cell_type": "code",
   "execution_count": 60,
   "id": "c140b7f6",
   "metadata": {},
   "outputs": [
    {
     "name": "stderr",
     "output_type": "stream",
     "text": [
      "                                                                                \r"
     ]
    },
    {
     "data": {
      "text/html": [
       "<div>\n",
       "<style scoped>\n",
       "    .dataframe tbody tr th:only-of-type {\n",
       "        vertical-align: middle;\n",
       "    }\n",
       "\n",
       "    .dataframe tbody tr th {\n",
       "        vertical-align: top;\n",
       "    }\n",
       "\n",
       "    .dataframe thead th {\n",
       "        text-align: right;\n",
       "    }\n",
       "</style>\n",
       "<table border=\"1\" class=\"dataframe\">\n",
       "  <thead>\n",
       "    <tr style=\"text-align: right;\">\n",
       "      <th></th>\n",
       "      <th>kind</th>\n",
       "      <th>category</th>\n",
       "      <th>ind_tin</th>\n",
       "      <th>ind_number</th>\n",
       "      <th>first_name</th>\n",
       "      <th>last_name</th>\n",
       "      <th>patronymic</th>\n",
       "      <th>org_name</th>\n",
       "      <th>org_short_name</th>\n",
       "      <th>org_tin</th>\n",
       "      <th>org_number</th>\n",
       "      <th>region_code</th>\n",
       "      <th>region_name</th>\n",
       "      <th>region_type</th>\n",
       "      <th>district_name</th>\n",
       "      <th>district_type</th>\n",
       "      <th>city_name</th>\n",
       "      <th>city_type</th>\n",
       "      <th>settlement_name</th>\n",
       "      <th>settlement_type</th>\n",
       "      <th>activity_code_main</th>\n",
       "      <th>start_date</th>\n",
       "      <th>end_date</th>\n",
       "    </tr>\n",
       "  </thead>\n",
       "  <tbody>\n",
       "    <tr>\n",
       "      <th>0</th>\n",
       "      <td>1</td>\n",
       "      <td>1</td>\n",
       "      <td>None</td>\n",
       "      <td>None</td>\n",
       "      <td>None</td>\n",
       "      <td>None</td>\n",
       "      <td>None</td>\n",
       "      <td>ОБЩЕСТВО С ОГРАНИЧЕННОЙ ОТВЕТСТВЕННОСТЬЮ \"АВАН...</td>\n",
       "      <td>ООО \"АВАНТАЖ\"</td>\n",
       "      <td>0273080245</td>\n",
       "      <td>None</td>\n",
       "      <td>2</td>\n",
       "      <td>БАШКОРТОСТАН</td>\n",
       "      <td>РЕСПУБЛИКА</td>\n",
       "      <td>None</td>\n",
       "      <td>None</td>\n",
       "      <td>УФА</td>\n",
       "      <td>ГОРОД</td>\n",
       "      <td>None</td>\n",
       "      <td>None</td>\n",
       "      <td>69.10</td>\n",
       "      <td>2017-04-10</td>\n",
       "      <td>None</td>\n",
       "    </tr>\n",
       "    <tr>\n",
       "      <th>1</th>\n",
       "      <td>1</td>\n",
       "      <td>1</td>\n",
       "      <td>None</td>\n",
       "      <td>None</td>\n",
       "      <td>None</td>\n",
       "      <td>None</td>\n",
       "      <td>None</td>\n",
       "      <td>ОБЩЕСТВО С ОГРАНИЧЕННОЙ ОТВЕТСТВЕННОСТЬЮ \"АКЦЕНТ\"</td>\n",
       "      <td>ООО \"АКЦЕНТ\"</td>\n",
       "      <td>0276115295</td>\n",
       "      <td>None</td>\n",
       "      <td>2</td>\n",
       "      <td>БАШКОРТОСТАН</td>\n",
       "      <td>РЕСПУБЛИКА</td>\n",
       "      <td>None</td>\n",
       "      <td>None</td>\n",
       "      <td>УФА</td>\n",
       "      <td>ГОРОД</td>\n",
       "      <td>None</td>\n",
       "      <td>None</td>\n",
       "      <td>69.10</td>\n",
       "      <td>2016-12-10</td>\n",
       "      <td>2022-03-10</td>\n",
       "    </tr>\n",
       "    <tr>\n",
       "      <th>2</th>\n",
       "      <td>1</td>\n",
       "      <td>1</td>\n",
       "      <td>None</td>\n",
       "      <td>None</td>\n",
       "      <td>None</td>\n",
       "      <td>None</td>\n",
       "      <td>None</td>\n",
       "      <td>ОБЩЕСТВО С ОГРАНИЧЕННОЙ ОТВЕТСТВЕННОСТЬЮ \"АКЦЕНТ\"</td>\n",
       "      <td>ООО \"АКЦЕНТ\"</td>\n",
       "      <td>0276115295</td>\n",
       "      <td>1080276003026</td>\n",
       "      <td>2</td>\n",
       "      <td>БАШКОРТОСТАН</td>\n",
       "      <td>РЕСП.</td>\n",
       "      <td>None</td>\n",
       "      <td>None</td>\n",
       "      <td>УФА</td>\n",
       "      <td>Г.</td>\n",
       "      <td>None</td>\n",
       "      <td>None</td>\n",
       "      <td>69.10</td>\n",
       "      <td>2022-03-10</td>\n",
       "      <td>None</td>\n",
       "    </tr>\n",
       "    <tr>\n",
       "      <th>3</th>\n",
       "      <td>1</td>\n",
       "      <td>1</td>\n",
       "      <td>None</td>\n",
       "      <td>None</td>\n",
       "      <td>None</td>\n",
       "      <td>None</td>\n",
       "      <td>None</td>\n",
       "      <td>ОБЩЕСТВО С ОГРАНИЧЕННОЙ ОТВЕТСТВЕННОСТЬЮ \"ИМПЕ...</td>\n",
       "      <td>ООО \"ИМПЕРИЯ НЕДВИЖИМОСТИ\"</td>\n",
       "      <td>0276909812</td>\n",
       "      <td>None</td>\n",
       "      <td>2</td>\n",
       "      <td>БАШКОРТОСТАН</td>\n",
       "      <td>РЕСПУБЛИКА</td>\n",
       "      <td>None</td>\n",
       "      <td>None</td>\n",
       "      <td>УФА</td>\n",
       "      <td>ГОРОД</td>\n",
       "      <td>None</td>\n",
       "      <td>None</td>\n",
       "      <td>69.10</td>\n",
       "      <td>2016-08-10</td>\n",
       "      <td>None</td>\n",
       "    </tr>\n",
       "    <tr>\n",
       "      <th>4</th>\n",
       "      <td>1</td>\n",
       "      <td>1</td>\n",
       "      <td>None</td>\n",
       "      <td>None</td>\n",
       "      <td>None</td>\n",
       "      <td>None</td>\n",
       "      <td>None</td>\n",
       "      <td>ОБЩЕСТВО С ОГРАНИЧЕННОЙ ОТВЕТСТВЕННОСТЬЮ ЮРИДИ...</td>\n",
       "      <td>ООО ЮКЦ \"АКТИС\"</td>\n",
       "      <td>0276918454</td>\n",
       "      <td>None</td>\n",
       "      <td>2</td>\n",
       "      <td>БАШКОРТОСТАН</td>\n",
       "      <td>РЕСПУБЛИКА</td>\n",
       "      <td>None</td>\n",
       "      <td>None</td>\n",
       "      <td>УФА</td>\n",
       "      <td>ГОРОД</td>\n",
       "      <td>None</td>\n",
       "      <td>None</td>\n",
       "      <td>69.10</td>\n",
       "      <td>2016-12-10</td>\n",
       "      <td>2018-07-10</td>\n",
       "    </tr>\n",
       "    <tr>\n",
       "      <th>5</th>\n",
       "      <td>1</td>\n",
       "      <td>1</td>\n",
       "      <td>None</td>\n",
       "      <td>None</td>\n",
       "      <td>None</td>\n",
       "      <td>None</td>\n",
       "      <td>None</td>\n",
       "      <td>ОБЩЕСТВО С ОГРАНИЧЕННОЙ ОТВЕТСТВЕННОСТЬЮ ЮРИДИ...</td>\n",
       "      <td>ООО ЮК \"БЕЛЫЙ ДОМ\"</td>\n",
       "      <td>0276918454</td>\n",
       "      <td>None</td>\n",
       "      <td>2</td>\n",
       "      <td>БАШКОРТОСТАН</td>\n",
       "      <td>РЕСПУБЛИКА</td>\n",
       "      <td>None</td>\n",
       "      <td>None</td>\n",
       "      <td>УФА</td>\n",
       "      <td>ГОРОД</td>\n",
       "      <td>None</td>\n",
       "      <td>None</td>\n",
       "      <td>69.10</td>\n",
       "      <td>2018-07-10</td>\n",
       "      <td>None</td>\n",
       "    </tr>\n",
       "    <tr>\n",
       "      <th>6</th>\n",
       "      <td>1</td>\n",
       "      <td>1</td>\n",
       "      <td>None</td>\n",
       "      <td>None</td>\n",
       "      <td>None</td>\n",
       "      <td>None</td>\n",
       "      <td>None</td>\n",
       "      <td>ОБЩЕСТВО С ОГРАНИЧЕННОЙ ОТВЕТСТВЕННОСТЬЮ \"ЦЕНТ...</td>\n",
       "      <td>ООО \"ЦЕНТР КАДРОВОГО КОНСАЛТИНГА \"ВАШИ КАДРЫ\"</td>\n",
       "      <td>0277070791</td>\n",
       "      <td>None</td>\n",
       "      <td>2</td>\n",
       "      <td>БАШКОРТОСТАН</td>\n",
       "      <td>РЕСПУБЛИКА</td>\n",
       "      <td>None</td>\n",
       "      <td>None</td>\n",
       "      <td>УФА</td>\n",
       "      <td>ГОРОД</td>\n",
       "      <td>None</td>\n",
       "      <td>None</td>\n",
       "      <td>69.10</td>\n",
       "      <td>2019-08-10</td>\n",
       "      <td>None</td>\n",
       "    </tr>\n",
       "    <tr>\n",
       "      <th>7</th>\n",
       "      <td>1</td>\n",
       "      <td>1</td>\n",
       "      <td>None</td>\n",
       "      <td>None</td>\n",
       "      <td>None</td>\n",
       "      <td>None</td>\n",
       "      <td>None</td>\n",
       "      <td>ОБЩЕСТВО С ОГРАНИЧЕННОЙ ОТВЕТСТВЕННОСТЬЮ \"ЦЕНТ...</td>\n",
       "      <td>ООО \"ЦЕНТР ЮРИДИЧЕСКОЙ ПОМОЩИ\"</td>\n",
       "      <td>0277107233</td>\n",
       "      <td>None</td>\n",
       "      <td>2</td>\n",
       "      <td>БАШКОРТОСТАН</td>\n",
       "      <td>РЕСПУБЛИКА</td>\n",
       "      <td>None</td>\n",
       "      <td>None</td>\n",
       "      <td>УФА</td>\n",
       "      <td>ГОРОД</td>\n",
       "      <td>None</td>\n",
       "      <td>None</td>\n",
       "      <td>69.10</td>\n",
       "      <td>2016-08-10</td>\n",
       "      <td>2020-09-10</td>\n",
       "    </tr>\n",
       "    <tr>\n",
       "      <th>8</th>\n",
       "      <td>1</td>\n",
       "      <td>1</td>\n",
       "      <td>None</td>\n",
       "      <td>None</td>\n",
       "      <td>None</td>\n",
       "      <td>None</td>\n",
       "      <td>None</td>\n",
       "      <td>ОБЩЕСТВО С ОГРАНИЧЕННОЙ ОТВЕТСТВЕННОСТЬЮ \"ЦЕНТ...</td>\n",
       "      <td>ООО \"ЦЕНТР ЮРИДИЧЕСКОЙ ПОМОЩИ\"</td>\n",
       "      <td>0277107233</td>\n",
       "      <td>None</td>\n",
       "      <td>2</td>\n",
       "      <td>БАШКОРТОСТАН</td>\n",
       "      <td>РЕСПУБЛИКА</td>\n",
       "      <td>УФИМСКИЙ</td>\n",
       "      <td>РАЙОН</td>\n",
       "      <td>None</td>\n",
       "      <td>None</td>\n",
       "      <td>БУЛГАКОВО</td>\n",
       "      <td>СЕЛО</td>\n",
       "      <td>69.10</td>\n",
       "      <td>2020-09-10</td>\n",
       "      <td>None</td>\n",
       "    </tr>\n",
       "    <tr>\n",
       "      <th>9</th>\n",
       "      <td>1</td>\n",
       "      <td>1</td>\n",
       "      <td>None</td>\n",
       "      <td>None</td>\n",
       "      <td>None</td>\n",
       "      <td>None</td>\n",
       "      <td>None</td>\n",
       "      <td>ОБЩЕСТВО С ОГРАНИЧЕННОЙ ОТВЕТСТВЕННОСТЬЮ \"СКОР...</td>\n",
       "      <td>ООО \"СКОРАЯ ЮРИДИЧЕСКАЯ ПОМОЩЬ\"</td>\n",
       "      <td>0277126959</td>\n",
       "      <td>None</td>\n",
       "      <td>2</td>\n",
       "      <td>БАШКОРТОСТАН</td>\n",
       "      <td>РЕСПУБЛИКА</td>\n",
       "      <td>None</td>\n",
       "      <td>None</td>\n",
       "      <td>УФА</td>\n",
       "      <td>ГОРОД</td>\n",
       "      <td>None</td>\n",
       "      <td>None</td>\n",
       "      <td>69.10</td>\n",
       "      <td>2016-08-10</td>\n",
       "      <td>None</td>\n",
       "    </tr>\n",
       "  </tbody>\n",
       "</table>\n",
       "</div>"
      ],
      "text/plain": [
       "   kind  category ind_tin ind_number first_name last_name patronymic  \\\n",
       "0     1         1    None       None       None      None       None   \n",
       "1     1         1    None       None       None      None       None   \n",
       "2     1         1    None       None       None      None       None   \n",
       "3     1         1    None       None       None      None       None   \n",
       "4     1         1    None       None       None      None       None   \n",
       "5     1         1    None       None       None      None       None   \n",
       "6     1         1    None       None       None      None       None   \n",
       "7     1         1    None       None       None      None       None   \n",
       "8     1         1    None       None       None      None       None   \n",
       "9     1         1    None       None       None      None       None   \n",
       "\n",
       "                                            org_name  \\\n",
       "0  ОБЩЕСТВО С ОГРАНИЧЕННОЙ ОТВЕТСТВЕННОСТЬЮ \"АВАН...   \n",
       "1  ОБЩЕСТВО С ОГРАНИЧЕННОЙ ОТВЕТСТВЕННОСТЬЮ \"АКЦЕНТ\"   \n",
       "2  ОБЩЕСТВО С ОГРАНИЧЕННОЙ ОТВЕТСТВЕННОСТЬЮ \"АКЦЕНТ\"   \n",
       "3  ОБЩЕСТВО С ОГРАНИЧЕННОЙ ОТВЕТСТВЕННОСТЬЮ \"ИМПЕ...   \n",
       "4  ОБЩЕСТВО С ОГРАНИЧЕННОЙ ОТВЕТСТВЕННОСТЬЮ ЮРИДИ...   \n",
       "5  ОБЩЕСТВО С ОГРАНИЧЕННОЙ ОТВЕТСТВЕННОСТЬЮ ЮРИДИ...   \n",
       "6  ОБЩЕСТВО С ОГРАНИЧЕННОЙ ОТВЕТСТВЕННОСТЬЮ \"ЦЕНТ...   \n",
       "7  ОБЩЕСТВО С ОГРАНИЧЕННОЙ ОТВЕТСТВЕННОСТЬЮ \"ЦЕНТ...   \n",
       "8  ОБЩЕСТВО С ОГРАНИЧЕННОЙ ОТВЕТСТВЕННОСТЬЮ \"ЦЕНТ...   \n",
       "9  ОБЩЕСТВО С ОГРАНИЧЕННОЙ ОТВЕТСТВЕННОСТЬЮ \"СКОР...   \n",
       "\n",
       "                                  org_short_name     org_tin     org_number  \\\n",
       "0                                  ООО \"АВАНТАЖ\"  0273080245           None   \n",
       "1                                   ООО \"АКЦЕНТ\"  0276115295           None   \n",
       "2                                   ООО \"АКЦЕНТ\"  0276115295  1080276003026   \n",
       "3                     ООО \"ИМПЕРИЯ НЕДВИЖИМОСТИ\"  0276909812           None   \n",
       "4                                ООО ЮКЦ \"АКТИС\"  0276918454           None   \n",
       "5                             ООО ЮК \"БЕЛЫЙ ДОМ\"  0276918454           None   \n",
       "6  ООО \"ЦЕНТР КАДРОВОГО КОНСАЛТИНГА \"ВАШИ КАДРЫ\"  0277070791           None   \n",
       "7                 ООО \"ЦЕНТР ЮРИДИЧЕСКОЙ ПОМОЩИ\"  0277107233           None   \n",
       "8                 ООО \"ЦЕНТР ЮРИДИЧЕСКОЙ ПОМОЩИ\"  0277107233           None   \n",
       "9                ООО \"СКОРАЯ ЮРИДИЧЕСКАЯ ПОМОЩЬ\"  0277126959           None   \n",
       "\n",
       "   region_code   region_name region_type district_name district_type  \\\n",
       "0            2  БАШКОРТОСТАН  РЕСПУБЛИКА          None          None   \n",
       "1            2  БАШКОРТОСТАН  РЕСПУБЛИКА          None          None   \n",
       "2            2  БАШКОРТОСТАН       РЕСП.          None          None   \n",
       "3            2  БАШКОРТОСТАН  РЕСПУБЛИКА          None          None   \n",
       "4            2  БАШКОРТОСТАН  РЕСПУБЛИКА          None          None   \n",
       "5            2  БАШКОРТОСТАН  РЕСПУБЛИКА          None          None   \n",
       "6            2  БАШКОРТОСТАН  РЕСПУБЛИКА          None          None   \n",
       "7            2  БАШКОРТОСТАН  РЕСПУБЛИКА          None          None   \n",
       "8            2  БАШКОРТОСТАН  РЕСПУБЛИКА      УФИМСКИЙ         РАЙОН   \n",
       "9            2  БАШКОРТОСТАН  РЕСПУБЛИКА          None          None   \n",
       "\n",
       "  city_name city_type settlement_name settlement_type activity_code_main  \\\n",
       "0       УФА     ГОРОД            None            None              69.10   \n",
       "1       УФА     ГОРОД            None            None              69.10   \n",
       "2       УФА        Г.            None            None              69.10   \n",
       "3       УФА     ГОРОД            None            None              69.10   \n",
       "4       УФА     ГОРОД            None            None              69.10   \n",
       "5       УФА     ГОРОД            None            None              69.10   \n",
       "6       УФА     ГОРОД            None            None              69.10   \n",
       "7       УФА     ГОРОД            None            None              69.10   \n",
       "8      None      None       БУЛГАКОВО            СЕЛО              69.10   \n",
       "9       УФА     ГОРОД            None            None              69.10   \n",
       "\n",
       "   start_date    end_date  \n",
       "0  2017-04-10        None  \n",
       "1  2016-12-10  2022-03-10  \n",
       "2  2022-03-10        None  \n",
       "3  2016-08-10        None  \n",
       "4  2016-12-10  2018-07-10  \n",
       "5  2018-07-10        None  \n",
       "6  2019-08-10        None  \n",
       "7  2016-08-10  2020-09-10  \n",
       "8  2020-09-10        None  \n",
       "9  2016-08-10        None  "
      ]
     },
     "execution_count": 60,
     "metadata": {},
     "output_type": "execute_result"
    }
   ],
   "source": [
    "rsmp_table.limit(10).toPandas()"
   ]
  },
  {
   "cell_type": "code",
   "execution_count": 62,
   "id": "12bd39ae",
   "metadata": {},
   "outputs": [
    {
     "name": "stderr",
     "output_type": "stream",
     "text": [
      "                                                                                \r"
     ]
    }
   ],
   "source": [
    "rsmp_table.toPandas().to_csv(\"rsmp/csv/data.csv\", index=False, na_rep=\"NA\", float_format=\"%.0f\")"
   ]
  },
  {
   "cell_type": "markdown",
   "id": "8ffe431e",
   "metadata": {},
   "source": [
    "# Number of Employees"
   ]
  },
  {
   "cell_type": "code",
   "execution_count": 6,
   "id": "61661904",
   "metadata": {},
   "outputs": [],
   "source": [
    "staff_schema = StructType([\n",
    "    StructField(\"org_tin\", StringType(), False),\n",
    "    StructField(\"employees_count\", IntegerType(), True),\n",
    "    StructField(\"data_date\", DateType(), True),\n",
    "    StructField(\"doc_date\", DateType(), True),\n",
    "    StructField(\"file_id\", StringType(), True),\n",
    "])\n",
    "staff_path = pathlib.Path(\"sshr/csv\")\n",
    "staff_csv_files = [str(fn) for fn in staff_path.glob(\"data-*.csv\")]"
   ]
  },
  {
   "cell_type": "code",
   "execution_count": 7,
   "id": "5abf1b3e",
   "metadata": {},
   "outputs": [
    {
     "name": "stdout",
     "output_type": "stream",
     "text": [
      "root\n",
      " |-- org_tin: string (nullable = true)\n",
      " |-- employees_count: integer (nullable = true)\n",
      " |-- data_date: date (nullable = true)\n",
      " |-- doc_date: date (nullable = true)\n",
      " |-- file_id: string (nullable = true)\n",
      "\n"
     ]
    }
   ],
   "source": [
    "staff = session.read.options(header=True, dateFormat=\"dd.MM.yyyy\").schema(staff_schema).csv(staff_csv_files)\n",
    "staff.printSchema()"
   ]
  },
  {
   "cell_type": "code",
   "execution_count": 36,
   "id": "459114b2",
   "metadata": {},
   "outputs": [
    {
     "name": "stderr",
     "output_type": "stream",
     "text": [
      "                                                                                \r"
     ]
    },
    {
     "data": {
      "text/plain": [
       "24230"
      ]
     },
     "execution_count": 36,
     "metadata": {},
     "output_type": "execute_result"
    }
   ],
   "source": [
    "w_rn = Window.partitionBy(\"org_tin\", \"data_date\").orderBy(desc(\"doc_date\"))\n",
    "w_agg = Window.partitionBy(\"org_tin\", \"data_date\").rangeBetween(Window.unboundedPreceding, Window.unboundedFollowing)\n",
    "(staff\n",
    " .withColumn(\"row_number\", row_number().over(w_rn))\n",
    " .withColumn(\"max\", max(\"employees_count\").over(w_agg))\n",
    " .withColumn(\"min\", min(\"employees_count\").over(w_agg))\n",
    " .filter(\"max != min\")\n",
    " .dropDuplicates([\"org_tin\", \"data_date\"])\n",
    " .count()\n",
    ")"
   ]
  },
  {
   "cell_type": "code",
   "execution_count": 37,
   "id": "35ffc9d3",
   "metadata": {},
   "outputs": [
    {
     "name": "stderr",
     "output_type": "stream",
     "text": [
      "                                                                                \r"
     ]
    },
    {
     "data": {
      "text/plain": [
       "11145413"
      ]
     },
     "execution_count": 37,
     "metadata": {},
     "output_type": "execute_result"
    }
   ],
   "source": [
    "staff.dropDuplicates([\"org_tin\", \"data_date\"]).count()"
   ]
  },
  {
   "cell_type": "code",
   "execution_count": 65,
   "id": "55bb07c4",
   "metadata": {},
   "outputs": [],
   "source": [
    "w_rn = Window.partitionBy(\"org_tin\", \"data_date\").orderBy(desc(\"doc_date\"))\n",
    "\n",
    "staff_table = (\n",
    "    staff\n",
    "    .join(reestr_org_tins, on=\"org_tin\", how=\"leftsemi\")\n",
    "    .withColumn(\"row_number\", row_number().over(w_rn))\n",
    "    .filter(\"row_number = 1\")\n",
    "    .dropDuplicates([\"org_tin\", \"data_date\"])\n",
    "    .select(\"org_tin\", year(\"data_date\").alias(\"year\"), \"employees_count\")\n",
    "    .orderBy(\"org_tin\", \"year\")\n",
    "    .cache()\n",
    ")"
   ]
  },
  {
   "cell_type": "code",
   "execution_count": 66,
   "id": "c68007ed",
   "metadata": {},
   "outputs": [
    {
     "name": "stderr",
     "output_type": "stream",
     "text": [
      "[Stage 86:====================================================> (194 + 4) / 200]\r"
     ]
    },
    {
     "name": "stdout",
     "output_type": "stream",
     "text": [
      "+----------+----+---------------+\n",
      "|   org_tin|year|employees_count|\n",
      "+----------+----+---------------+\n",
      "|0101013292|2021|              1|\n",
      "|0104015040|2018|              2|\n",
      "|0104015040|2019|              2|\n",
      "|0104015040|2020|              2|\n",
      "|0104015040|2021|              2|\n",
      "|0104015040|2022|              2|\n",
      "|0105006257|2018|             24|\n",
      "|0105006257|2020|              1|\n",
      "|0105036692|2018|              2|\n",
      "|0105036692|2019|              2|\n",
      "+----------+----+---------------+\n",
      "only showing top 10 rows\n",
      "\n"
     ]
    },
    {
     "name": "stderr",
     "output_type": "stream",
     "text": [
      "\r",
      "                                                                                \r"
     ]
    }
   ],
   "source": [
    "staff_table.show(10)"
   ]
  },
  {
   "cell_type": "code",
   "execution_count": 67,
   "id": "4d3dbd05",
   "metadata": {},
   "outputs": [
    {
     "name": "stderr",
     "output_type": "stream",
     "text": [
      "                                                                                \r"
     ]
    },
    {
     "data": {
      "text/plain": [
       "174487"
      ]
     },
     "execution_count": 67,
     "metadata": {},
     "output_type": "execute_result"
    }
   ],
   "source": [
    "staff_table.count()"
   ]
  },
  {
   "cell_type": "code",
   "execution_count": 69,
   "id": "fb96907a",
   "metadata": {},
   "outputs": [
    {
     "name": "stderr",
     "output_type": "stream",
     "text": [
      "                                                                                \r"
     ]
    }
   ],
   "source": [
    "staff_table.toPandas().to_csv(\"sshr/csv/data.csv\", index=False, na_rep=\"NA\", float_format=\"%.0f\")"
   ]
  },
  {
   "cell_type": "code",
   "execution_count": 71,
   "id": "08e13172",
   "metadata": {},
   "outputs": [
    {
     "name": "stdout",
     "output_type": "stream",
     "text": [
      "root\n",
      " |-- org_tin: string (nullable = true)\n",
      " |-- revenue: float (nullable = true)\n",
      " |-- expediture: float (nullable = true)\n",
      " |-- data_date: date (nullable = true)\n",
      " |-- doc_date: date (nullable = true)\n",
      " |-- file_id: string (nullable = true)\n",
      "\n"
     ]
    }
   ],
   "source": [
    "revexp_schema = StructType([\n",
    "    StructField(\"org_tin\", StringType(), False),\n",
    "    StructField(\"revenue\", FloatType(), True),\n",
    "    StructField(\"expediture\", FloatType(), True),\n",
    "    StructField(\"data_date\", DateType(), True),\n",
    "    StructField(\"doc_date\", DateType(), True),\n",
    "    StructField(\"file_id\", StringType(), True),\n",
    "])\n",
    "revexp_path = pathlib.Path(\"revexp/csv\")\n",
    "revexp_csv_files = [str(fn) for fn in revexp_path.glob(\"data-*.csv\")]\n",
    "\n",
    "revexp = session.read.options(header=True, dateFormat=\"dd.MM.yyyy\").schema(revexp_schema).csv(revexp_csv_files)\n",
    "revexp.printSchema()"
   ]
  },
  {
   "cell_type": "code",
   "execution_count": 72,
   "id": "f555e059",
   "metadata": {},
   "outputs": [
    {
     "name": "stdout",
     "output_type": "stream",
     "text": [
      "+----------+---------+----------+----------+----------+--------------------+\n",
      "|   org_tin|  revenue|expediture| data_date|  doc_date|             file_id|\n",
      "+----------+---------+----------+----------+----------+--------------------+\n",
      "|4632100208|1102000.0|  949000.0|2018-12-31|2019-10-15|VO_OTKRDAN5_9965_...|\n",
      "|3437013648|  32000.0|   12000.0|2018-12-31|2019-10-15|VO_OTKRDAN5_9965_...|\n",
      "|3662152924| 339000.0|  338000.0|2018-12-31|2019-10-15|VO_OTKRDAN5_9965_...|\n",
      "|6454111471|  9.712E7|  9.5442E7|2018-12-31|2019-10-15|VO_OTKRDAN5_9965_...|\n",
      "|6673090640|      0.0| 1150000.0|2018-12-31|2019-10-15|VO_OTKRDAN5_9965_...|\n",
      "+----------+---------+----------+----------+----------+--------------------+\n",
      "only showing top 5 rows\n",
      "\n"
     ]
    },
    {
     "name": "stderr",
     "output_type": "stream",
     "text": [
      "\r",
      "[Stage 98:>                                                         (0 + 1) / 1]\r",
      "\r",
      "                                                                                \r"
     ]
    }
   ],
   "source": [
    "revexp.show(5)"
   ]
  },
  {
   "cell_type": "code",
   "execution_count": 73,
   "id": "726e5862",
   "metadata": {},
   "outputs": [],
   "source": [
    "w_rn = Window.partitionBy(\"org_tin\", \"data_date\").orderBy(desc(\"doc_date\"))\n",
    "\n",
    "revexp_table = (\n",
    "    revexp\n",
    "    .join(reestr_org_tins, on=\"org_tin\", how=\"leftsemi\")\n",
    "    .withColumn(\"row_number\", row_number().over(w_rn))\n",
    "    .filter(\"row_number = 1\")\n",
    "    .dropDuplicates([\"org_tin\", \"data_date\"])\n",
    "    .select(\"org_tin\", year(\"data_date\").alias(\"year\"), \"revenue\", \"expediture\")\n",
    "    .orderBy(\"org_tin\", \"year\")\n",
    "    .cache()\n",
    ")"
   ]
  },
  {
   "cell_type": "code",
   "execution_count": 74,
   "id": "9cff0675",
   "metadata": {},
   "outputs": [
    {
     "name": "stderr",
     "output_type": "stream",
     "text": [
      "                                                                                \r"
     ]
    },
    {
     "data": {
      "text/plain": [
       "163074"
      ]
     },
     "execution_count": 74,
     "metadata": {},
     "output_type": "execute_result"
    }
   ],
   "source": [
    "revexp_table.count()"
   ]
  },
  {
   "cell_type": "code",
   "execution_count": 76,
   "id": "c7dc5697",
   "metadata": {},
   "outputs": [
    {
     "name": "stdout",
     "output_type": "stream",
     "text": [
      "+----------+----+---------+----------+\n",
      "|   org_tin|year|  revenue|expediture|\n",
      "+----------+----+---------+----------+\n",
      "|0104015040|2018| 864000.0|  719000.0|\n",
      "|0104015040|2019| 424000.0|  657000.0|\n",
      "|0104015040|2020|      0.0|       0.0|\n",
      "|0104015040|2021|      0.0|  171000.0|\n",
      "|0104015040|2022|      0.0|  136000.0|\n",
      "|0105006257|2018|3560000.0| 3215000.0|\n",
      "|0105006257|2019|1260000.0| 1260000.0|\n",
      "|0105006257|2020|      0.0|       0.0|\n",
      "|0105036692|2018| 276000.0|  264000.0|\n",
      "|0105036692|2019| 300000.0|  271000.0|\n",
      "+----------+----+---------+----------+\n",
      "only showing top 10 rows\n",
      "\n"
     ]
    }
   ],
   "source": [
    "revexp_table.show(10)"
   ]
  },
  {
   "cell_type": "code",
   "execution_count": 77,
   "id": "57a986ad",
   "metadata": {},
   "outputs": [
    {
     "name": "stderr",
     "output_type": "stream",
     "text": [
      "                                                                                \r"
     ]
    }
   ],
   "source": [
    "revexp_table.toPandas().to_csv(\"revexp/csv/data.csv\", index=False, na_rep=\"NA\", float_format=\"%.0f\")"
   ]
  }
 ],
 "metadata": {
  "kernelspec": {
   "display_name": "Python 3 (ipykernel)",
   "language": "python",
   "name": "python3"
  },
  "language_info": {
   "codemirror_mode": {
    "name": "ipython",
    "version": 3
   },
   "file_extension": ".py",
   "mimetype": "text/x-python",
   "name": "python",
   "nbconvert_exporter": "python",
   "pygments_lexer": "ipython3",
   "version": "3.10.6"
  }
 },
 "nbformat": 4,
 "nbformat_minor": 5
}
